{
 "cells": [
  {
   "cell_type": "markdown",
   "metadata": {},
   "source": [
    "$\\newcommand{\\xv}{\\mathbf{x}}\n",
    " \\newcommand{\\wv}{\\mathbf{w}}\n",
    " \\newcommand{\\yv}{\\mathbf{y}}\n",
    " \\newcommand{\\zv}{\\mathbf{z}}\n",
    " \\newcommand{\\Chi}{\\mathcal{X}}\n",
    " \\newcommand{\\R}{\\rm I\\!R}\n",
    " \\newcommand{\\sign}{\\text{sign}}\n",
    " \\newcommand{\\Tm}{\\mathbf{T}}\n",
    " \\newcommand{\\Xm}{\\mathbf{X}}\n",
    " \\newcommand{\\Zm}{\\mathbf{Z}}\n",
    " \\newcommand{\\Wm}{\\mathbf{W}}\n",
    " \\newcommand{\\Ym}{\\mathbf{Y}}\n",
    " \\newcommand{\\I}{\\mathbf{I}}\n",
    " \\newcommand{\\muv}{\\boldsymbol\\mu}\n",
    " \\newcommand{\\Sigmav}{\\boldsymbol\\Sigma}\n",
    "$\n",
    "\n",
    "# Deep Learning"
   ]
  },
  {
   "cell_type": "markdown",
   "metadata": {},
   "source": [
    "Deep learning is one of the most popular technologies in machine learning, well not only in ML, in general IT or engineering (even broader applications). There are many sources that show increasing the popularity and success with deep learning. Here is one of them from Google. \n",
    "\n",
    "<img src=\"https://image.slidesharecdn.com/movingtoneuralmachinetranslationatgoogle-gopro-meetup-171130223447/95/moving-to-neural-machine-translation-at-google-gopromeetup-2-638.jpg?cb=1512081326\" />\n",
    "Source: https://www.slideshare.net/ChesterChen/moving-to-neural-machine-translation-at-google-gopromeetup\n",
    "<!--img src=\"https://instinct.radeon.com/wp-content/uploads/sites/4/2017/04/deep-learning-google-1.png\" />\n",
    "Source: https://www.slideshare.net/HadoopSummit/machine-intelligence-at-google-scale-tensorflow\n",
    " -->\n",
    "\n",
    "Google has exponentially increased the use of deep learning, and this is not only for Google. In many areas, deep learning has suggested the solutions to many difficult or complex problems. Here are some articles that I can save my words for introduction.\n",
    "\n",
    "\n",
    "- https://www.technologyreview.com/s/513696/deep-learning/\n",
    "- https://www.wired.com/2014/01/geoffrey-hinton-deep-learning/\n",
    "- http://fortune.com/ai-artificial-intelligence-deep-machine-learning/\n"
   ]
  },
  {
   "cell_type": "markdown",
   "metadata": {},
   "source": [
    "## Going Deep from 2-Layer Neural Network\n",
    "\n",
    "Previously we learned neural networks and how they can be stacked up into a two-layer neural network. With the codes that I provided, we also learned to build deep neural networks by passing multiple entry with the number of hidden units for each layer \n",
    "(i.e., nn = nnet.NeuralNet([5, 10, 10, 10, 3])   for 4-layer neural networks).\n",
    "\n",
    "Deep learning has made a revolutionary advances in machine learning and AI by making ML algorithms (specifically neural networks) buch better and easier to use. [Yoshua Bengio](http://proceedings.mlr.press/v27/bengio12a/bengio12a.pdf) discussed their findings of deep network representations of polinomials which can be efficiently represented two family polynomials but require exponential size with shallow networks. More interestingly, he points out that too shallow networks may not generalize well unless huge numbers of examples and capacity are not provided. We have observed a large number of follow-up research and applicaitions that have successfully shown efficiency of deep neural networks.  \n",
    "\n",
    "\n",
    "#### Deep Neural Networks with TensorFlow\n",
    "\n",
    "Now, let us write the neural network codes with TensorFlow. Neural network with multiple hidden nodes can be computed fast by using multiple processors. By using TensorFlow, we can make our implementaion to be executed in distributed systems or GPU machines without rewriting the codes.\n",
    "\n",
    "You can learn some basics of TensorFlow from the [TensorFlow tuutorials](https://www.tensorflow.org/tutorials).\n",
    "\n",
    "\n",
    "Here follow some codes to importing libraries. As TensorFlow 2.0 is transient, some library dependency issues can happen. When reinstalling the libraries do not work, setting the environment variable, KMP_DUPLICATE_LIB_OK to True would help to fix the problem. "
   ]
  },
  {
   "cell_type": "code",
   "execution_count": 42,
   "metadata": {
    "collapsed": true
   },
   "outputs": [],
   "source": [
    "# preparation\n",
    "\n",
    "import tensorflow as tf\n",
    "# Common imports\n",
    "import numpy as np\n",
    "import os\n",
    "os.environ['KMP_DUPLICATE_LIB_OK']='True'   #TF2: to fix Jupyter down\n",
    "\n",
    "# To plot pretty figures\n",
    "%matplotlib inline\n",
    "import matplotlib\n",
    "import matplotlib.pyplot as plt\n",
    "plt.rcParams['axes.labelsize'] = 14\n",
    "plt.rcParams['xtick.labelsize'] = 12\n",
    "plt.rcParams['ytick.labelsize'] = 12\n",
    "\n",
    "import IPython.display as ipd  # for display and clear_output"
   ]
  },
  {
   "cell_type": "markdown",
   "metadata": {},
   "source": [
    "Before moving on, you can load the old neural network codes and compare the following changes in TensorFolw. "
   ]
  },
  {
   "cell_type": "markdown",
   "metadata": {},
   "source": [
    "## Training and Testing Data\n",
    "\n",
    "We use the same train and test data. We are using TF APIs instead of numpy. Check what difference this version has. "
   ]
  },
  {
   "cell_type": "code",
   "execution_count": 3,
   "metadata": {
    "collapsed": true
   },
   "outputs": [],
   "source": [
    "# Now play with example \n",
    "# Make some training data\n",
    "n = 20\n",
    "Xtrain = np.linspace(0.,20.0,n).reshape((n,1)) - 10\n",
    "Ttrain = 0.2 + 0.05 * (Xtrain+10) + 0.4 * np.sin(Xtrain+10) + 0.2 * np.random.normal(size=(n,1))\n",
    "\n",
    "# Make some testing data\n",
    "Xtest = Xtrain + 0.1*np.random.normal(size=(n,1))\n",
    "Ttest = 0.2 + 0.05 * (Xtest+10) + 0.4 * np.sin(Xtest+10) + 0.2 * np.random.normal(size=(n,1))"
   ]
  },
  {
   "cell_type": "code",
   "execution_count": 4,
   "metadata": {
    "collapsed": true
   },
   "outputs": [],
   "source": [
    "def addOnes(A):\n",
    "    \"\"\"Adds bias to passed data\"\"\"\n",
    "    return np.insert(A, 0, 1, axis=1)"
   ]
  },
  {
   "cell_type": "code",
   "execution_count": 5,
   "metadata": {
    "collapsed": true
   },
   "outputs": [],
   "source": [
    "X1train, X1test = addOnes(Xtrain), addOnes(Xtest)"
   ]
  },
  {
   "cell_type": "code",
   "execution_count": 6,
   "metadata": {
    "collapsed": true
   },
   "outputs": [],
   "source": [
    "# 2 inputs and 1 output\n",
    "ni = 1\n",
    "nh = 10\n",
    "no = 1\n",
    "learning_rate = 0.1\n",
    "\n",
    "# random generation of data following standard normal distribution\n",
    "# but truncate when the magnitude of random variable is more than 2 std\n",
    "V = tf.Variable(tf.random.truncated_normal((ni+1, nh)))\n",
    "W = tf.Variable(tf.random.truncated_normal((nh+1, no)))\n",
    "\n",
    "model = [V, W]"
   ]
  },
  {
   "cell_type": "code",
   "execution_count": 7,
   "metadata": {
    "collapsed": true
   },
   "outputs": [],
   "source": [
    "# forward pass\n",
    "#  Y =  h(XV) W\n",
    "def forward(model, X):\n",
    "    V, W = model\n",
    "    a = tf.matmul(X.astype('float32'), V[1:, :]) + V[0, :]\n",
    "    Z = tf.tanh(a)  # activation\n",
    "    Y = tf.matmul(Z, W[1:, :]) + W[0, :]\n",
    "    return Y, Z"
   ]
  },
  {
   "cell_type": "code",
   "execution_count": 8,
   "metadata": {
    "collapsed": true
   },
   "outputs": [],
   "source": [
    "# backward pass\n",
    "\n",
    "def errorf(model, X, T):\n",
    "    Y, Z = forward(model, X)\n",
    "    error = T - Y\n",
    "    return tf.reduce_mean(tf.square(error), name=\"mse\"), Y, Z\n",
    "\n",
    "\n",
    "def train(model, X, T): \n",
    "    V, W = model\n",
    "    with tf.GradientTape() as t:\n",
    "        mse, _, _ = errorf(model, X, T)\n",
    "    \n",
    "    v, w = t.gradient(mse, [V, W])\n",
    "    V.assign_sub(learning_rate * v)\n",
    "    W.assign_sub(learning_rate * w)\n"
   ]
  },
  {
   "cell_type": "code",
   "execution_count": 9,
   "metadata": {
    "scrolled": false
   },
   "outputs": [
    {
     "name": "stdout",
     "output_type": "stream",
     "text": [
      "Train MSE: 0.043752651661634445\n",
      "Test MSE: 0.14147014915943146\n"
     ]
    },
    {
     "data": {
      "image/png": "[encoded data removed]",
      "text/plain": [
       "<Figure size 720x576 with 3 Axes>"
      ]
     },
     "metadata": {
      "needs_background": "light"
     },
     "output_type": "display_data"
    }
   ],
   "source": [
    "n_epochs = 1000\n",
    "\n",
    "fig = plt.figure(figsize=(10,8))\n",
    "    \n",
    "errorTrace = []\n",
    "for epoch in range(n_epochs):\n",
    "    #Y = forward(model, Xtrain)\n",
    "    mse, Y, Z = errorf(model, Xtrain, Ttrain)\n",
    "    train(model, Xtrain, Ttrain)\n",
    "    \n",
    "    if epoch % 100 == 0:\n",
    "        print(\"Epoch\", epoch, \"MSE =\", mse)\n",
    "\n",
    "        plt.clf()\n",
    "        plt.subplot(3,1,1)\n",
    "        plt.plot(errorTrace[:epoch])\n",
    "        plt.ylim(0,0.7)\n",
    "        plt.xlabel('Epochs')\n",
    "        plt.ylabel('RMSE')\n",
    "        plt.legend(('Train','Test'),loc='upper left')\n",
    "\n",
    "        plt.subplot(3,1,2)\n",
    "        plt.plot(Xtrain,Ttrain,'o-',Xtest,Ttest,'o-',Xtest,Y,'o-')\n",
    "        plt.xlim(-10,10)\n",
    "        plt.legend(('Training','Testing','Model'),loc='upper left')\n",
    "        plt.xlabel('$x$')\n",
    "        plt.ylabel('Actual and Predicted $f(x)$')\n",
    "\n",
    "        plt.subplot(3,1,3)\n",
    "        plt.plot(Xtrain, Z)\n",
    "        plt.ylim(-1.1,1.1)\n",
    "        plt.xlabel('$x$')\n",
    "        plt.ylabel('Hidden Unit Outputs ($z$)');\n",
    "\n",
    "        plt.tight_layout()\n",
    "\n",
    "        ipd.clear_output(wait=True)\n",
    "        ipd.display(fig)            \n",
    "\n",
    "    errorTrace.append(mse)\n",
    "\n",
    "\n",
    "ipd.clear_output(wait=True)\n",
    "\n",
    "train_error, _, _ = errorf(model, Xtrain, Ttrain)\n",
    "test_error, _, _ = errorf(model, Xtest, Ttest)\n",
    "print(\"Train MSE: {}\".format(train_error))\n",
    "print(\"Test MSE: {}\".format(test_error))\n"
   ]
  },
  {
   "cell_type": "markdown",
   "metadata": {},
   "source": [
    "What do you have observed? ANy notable difference did you find? As TF v2 with eager execution, the cosmetic is very similar to regular python codes. Now, let us build network with Keras APIs, which is much easier. "
   ]
  },
  {
   "cell_type": "markdown",
   "metadata": {},
   "source": [
    "# Module: tf.keras\n",
    "\n",
    "There is a module for high level neural networks layers. \n",
    "Here are the link to the reference: https://www.tensorflow.org/api_docs/python/tf/keras. \n",
    "Following the [ML Basics with Keras](https://www.tensorflow.org/tutorials/keras/classification) tutorial will be helpful for you to practice. \n",
    "\n",
    "With this built-in module, we can easily stack layers to build neural networks. "
   ]
  },
  {
   "cell_type": "code",
   "execution_count": 10,
   "metadata": {},
   "outputs": [
    {
     "name": "stdout",
     "output_type": "stream",
     "text": [
      "Model: \"sequential\"\n",
      "_________________________________________________________________\n",
      "Layer (type)                 Output Shape              Param #   \n",
      "=================================================================\n",
      "flatten (Flatten)            (None, 1)                 0         \n",
      "_________________________________________________________________\n",
      "dense (Dense)                (None, 10)                20        \n",
      "_________________________________________________________________\n",
      "dense_1 (Dense)              (None, 1)                 11        \n",
      "=================================================================\n",
      "Total params: 31\n",
      "Trainable params: 31\n",
      "Non-trainable params: 0\n",
      "_________________________________________________________________\n"
     ]
    }
   ],
   "source": [
    "# with layers to build networks \n",
    "from tensorflow import keras \n",
    "\n",
    "ni = 1\n",
    "nh = 10\n",
    "no = 1\n",
    "learning_rate = 0.1\n",
    "\n",
    "\n",
    "# build a neural network model\n",
    "model = keras.Sequential([\n",
    "            keras.layers.Flatten(input_shape=[ni]),\n",
    "            keras.layers.Dense(nh, activation='tanh'),\n",
    "            keras.layers.Dense(no)\n",
    "        ])\n",
    "\n",
    "# compile the model\n",
    "model.compile(optimizer='adam',\n",
    "              loss='mse', \n",
    "              metrics=['MSE', 'MAE'])\n",
    "\n",
    "model.summary()"
   ]
  },
  {
   "cell_type": "markdown",
   "metadata": {},
   "source": [
    "summary() shows the neuraln network structure for you to examine the structure and the parameters. \n",
    "fit() function trains the model that you just built and returns the training information. "
   ]
  },
  {
   "cell_type": "code",
   "execution_count": 11,
   "metadata": {},
   "outputs": [
    {
     "name": "stdout",
     "output_type": "stream",
     "text": [
      "Train on 16 samples, validate on 4 samples\n",
      "Epoch 1/100\n",
      "16/16 [==============================] - 2s 99ms/sample - loss: 2.5651 - MSE: 2.5651 - MAE: 1.3554 - val_loss: 0.6422 - val_MSE: 0.6422 - val_MAE: 0.7740\n",
      "Epoch 2/100\n",
      "16/16 [==============================] - 0s 5ms/sample - loss: 2.5279 - MSE: 2.5279 - MAE: 1.3434 - val_loss: 0.6253 - val_MSE: 0.6253 - val_MAE: 0.7631\n",
      "Epoch 3/100\n",
      "16/16 [==============================] - 0s 7ms/sample - loss: 2.4910 - MSE: 2.4910 - MAE: 1.3315 - val_loss: 0.6087 - val_MSE: 0.6087 - val_MAE: 0.7522\n",
      "Epoch 4/100\n",
      "16/16 [==============================] - 0s 7ms/sample - loss: 2.4545 - MSE: 2.4545 - MAE: 1.3195 - val_loss: 0.5923 - val_MSE: 0.5923 - val_MAE: 0.7414\n",
      "Epoch 5/100\n",
      "16/16 [==============================] - 0s 6ms/sample - loss: 2.4183 - MSE: 2.4183 - MAE: 1.3075 - val_loss: 0.5761 - val_MSE: 0.5761 - val_MAE: 0.7305\n",
      "Epoch 6/100\n",
      "16/16 [==============================] - 0s 6ms/sample - loss: 2.3824 - MSE: 2.3824 - MAE: 1.2955 - val_loss: 0.5602 - val_MSE: 0.5602 - val_MAE: 0.7196\n",
      "Epoch 7/100\n",
      "16/16 [==============================] - 0s 7ms/sample - loss: 2.3469 - MSE: 2.3469 - MAE: 1.2836 - val_loss: 0.5445 - val_MSE: 0.5445 - val_MAE: 0.7087\n",
      "Epoch 8/100\n",
      "16/16 [==============================] - 0s 6ms/sample - loss: 2.3117 - MSE: 2.3117 - MAE: 1.2716 - val_loss: 0.5291 - val_MSE: 0.5291 - val_MAE: 0.6979\n",
      "Epoch 9/100\n",
      "16/16 [==============================] - 0s 6ms/sample - loss: 2.2769 - MSE: 2.2769 - MAE: 1.2597 - val_loss: 0.5140 - val_MSE: 0.5140 - val_MAE: 0.6870\n",
      "Epoch 10/100\n",
      "16/16 [==============================] - 0s 6ms/sample - loss: 2.2424 - MSE: 2.2424 - MAE: 1.2477 - val_loss: 0.4991 - val_MSE: 0.4991 - val_MAE: 0.6762\n",
      "Epoch 11/100\n",
      "16/16 [==============================] - 0s 5ms/sample - loss: 2.2082 - MSE: 2.2082 - MAE: 1.2358 - val_loss: 0.4844 - val_MSE: 0.4844 - val_MAE: 0.6654\n",
      "Epoch 12/100\n",
      "16/16 [==============================] - 0s 6ms/sample - loss: 2.1744 - MSE: 2.1744 - MAE: 1.2249 - val_loss: 0.4700 - val_MSE: 0.4700 - val_MAE: 0.6546\n",
      "Epoch 13/100\n",
      "16/16 [==============================] - 0s 7ms/sample - loss: 2.1410 - MSE: 2.1410 - MAE: 1.2141 - val_loss: 0.4559 - val_MSE: 0.4559 - val_MAE: 0.6438\n",
      "Epoch 14/100\n",
      "16/16 [==============================] - 0s 6ms/sample - loss: 2.1080 - MSE: 2.1080 - MAE: 1.2034 - val_loss: 0.4420 - val_MSE: 0.4420 - val_MAE: 0.6331\n",
      "Epoch 15/100\n",
      "16/16 [==============================] - 0s 5ms/sample - loss: 2.0753 - MSE: 2.0753 - MAE: 1.1928 - val_loss: 0.4284 - val_MSE: 0.4284 - val_MAE: 0.6223\n",
      "Epoch 16/100\n",
      "16/16 [==============================] - 0s 6ms/sample - loss: 2.0429 - MSE: 2.0429 - MAE: 1.1827 - val_loss: 0.4151 - val_MSE: 0.4151 - val_MAE: 0.6116\n",
      "Epoch 17/100\n",
      "16/16 [==============================] - 0s 6ms/sample - loss: 2.0110 - MSE: 2.0110 - MAE: 1.1735 - val_loss: 0.4020 - val_MSE: 0.4020 - val_MAE: 0.6009\n",
      "Epoch 18/100\n",
      "16/16 [==============================] - 0s 6ms/sample - loss: 1.9794 - MSE: 1.9794 - MAE: 1.1643 - val_loss: 0.3892 - val_MSE: 0.3892 - val_MAE: 0.5903\n",
      "Epoch 19/100\n",
      "16/16 [==============================] - 0s 6ms/sample - loss: 1.9482 - MSE: 1.9482 - MAE: 1.1551 - val_loss: 0.3766 - val_MSE: 0.3766 - val_MAE: 0.5796\n",
      "Epoch 20/100\n",
      "16/16 [==============================] - 0s 5ms/sample - loss: 1.9174 - MSE: 1.9174 - MAE: 1.1459 - val_loss: 0.3643 - val_MSE: 0.3643 - val_MAE: 0.5690\n",
      "Epoch 21/100\n",
      "16/16 [==============================] - 0s 7ms/sample - loss: 1.8869 - MSE: 1.8869 - MAE: 1.1368 - val_loss: 0.3523 - val_MSE: 0.3523 - val_MAE: 0.5585\n",
      "Epoch 22/100\n",
      "16/16 [==============================] - 0s 6ms/sample - loss: 1.8569 - MSE: 1.8569 - MAE: 1.1277 - val_loss: 0.3405 - val_MSE: 0.3405 - val_MAE: 0.5479\n",
      "Epoch 23/100\n",
      "16/16 [==============================] - 0s 5ms/sample - loss: 1.8272 - MSE: 1.8272 - MAE: 1.1186 - val_loss: 0.3290 - val_MSE: 0.3290 - val_MAE: 0.5374\n",
      "Epoch 24/100\n",
      "16/16 [==============================] - 0s 8ms/sample - loss: 1.7979 - MSE: 1.7979 - MAE: 1.1095 - val_loss: 0.3177 - val_MSE: 0.3177 - val_MAE: 0.5269\n",
      "Epoch 25/100\n",
      "16/16 [==============================] - 0s 4ms/sample - loss: 1.7689 - MSE: 1.7689 - MAE: 1.1005 - val_loss: 0.3067 - val_MSE: 0.3067 - val_MAE: 0.5165\n",
      "Epoch 26/100\n",
      "16/16 [==============================] - 0s 5ms/sample - loss: 1.7404 - MSE: 1.7404 - MAE: 1.0915 - val_loss: 0.2960 - val_MSE: 0.2960 - val_MAE: 0.5061\n",
      "Epoch 27/100\n",
      "16/16 [==============================] - 0s 8ms/sample - loss: 1.7122 - MSE: 1.7122 - MAE: 1.0825 - val_loss: 0.2855 - val_MSE: 0.2855 - val_MAE: 0.4958\n",
      "Epoch 28/100\n",
      "16/16 [==============================] - 0s 5ms/sample - loss: 1.6844 - MSE: 1.6844 - MAE: 1.0736 - val_loss: 0.2752 - val_MSE: 0.2752 - val_MAE: 0.4854\n",
      "Epoch 29/100\n",
      "16/16 [==============================] - 0s 5ms/sample - loss: 1.6570 - MSE: 1.6570 - MAE: 1.0647 - val_loss: 0.2653 - val_MSE: 0.2653 - val_MAE: 0.4752\n",
      "Epoch 30/100\n",
      "16/16 [==============================] - 0s 6ms/sample - loss: 1.6299 - MSE: 1.6299 - MAE: 1.0558 - val_loss: 0.2555 - val_MSE: 0.2555 - val_MAE: 0.4649\n",
      "Epoch 31/100\n",
      "16/16 [==============================] - 0s 6ms/sample - loss: 1.6033 - MSE: 1.6033 - MAE: 1.0469 - val_loss: 0.2461 - val_MSE: 0.2461 - val_MAE: 0.4547\n",
      "Epoch 32/100\n",
      "16/16 [==============================] - 0s 7ms/sample - loss: 1.5770 - MSE: 1.5770 - MAE: 1.0381 - val_loss: 0.2368 - val_MSE: 0.2368 - val_MAE: 0.4446\n",
      "Epoch 33/100\n",
      "16/16 [==============================] - 0s 4ms/sample - loss: 1.5510 - MSE: 1.5510 - MAE: 1.0293 - val_loss: 0.2279 - val_MSE: 0.2279 - val_MAE: 0.4345\n",
      "Epoch 34/100\n",
      "16/16 [==============================] - 0s 6ms/sample - loss: 1.5255 - MSE: 1.5255 - MAE: 1.0216 - val_loss: 0.2191 - val_MSE: 0.2191 - val_MAE: 0.4245\n",
      "Epoch 35/100\n",
      "16/16 [==============================] - 0s 7ms/sample - loss: 1.5003 - MSE: 1.5003 - MAE: 1.0141 - val_loss: 0.2106 - val_MSE: 0.2106 - val_MAE: 0.4144\n",
      "Epoch 36/100\n",
      "16/16 [==============================] - 0s 5ms/sample - loss: 1.4755 - MSE: 1.4755 - MAE: 1.0066 - val_loss: 0.2024 - val_MSE: 0.2024 - val_MAE: 0.4045\n",
      "Epoch 37/100\n",
      "16/16 [==============================] - 0s 4ms/sample - loss: 1.4510 - MSE: 1.4510 - MAE: 0.9992 - val_loss: 0.1944 - val_MSE: 0.1944 - val_MAE: 0.3946\n",
      "Epoch 38/100\n",
      "16/16 [==============================] - 0s 6ms/sample - loss: 1.4270 - MSE: 1.4270 - MAE: 0.9918 - val_loss: 0.1866 - val_MSE: 0.1866 - val_MAE: 0.3847\n",
      "Epoch 39/100\n",
      "16/16 [==============================] - 0s 5ms/sample - loss: 1.4032 - MSE: 1.4032 - MAE: 0.9844 - val_loss: 0.1791 - val_MSE: 0.1791 - val_MAE: 0.3749\n",
      "Epoch 40/100\n",
      "16/16 [==============================] - 0s 5ms/sample - loss: 1.3799 - MSE: 1.3799 - MAE: 0.9770 - val_loss: 0.1717 - val_MSE: 0.1717 - val_MAE: 0.3652\n",
      "Epoch 41/100\n",
      "16/16 [==============================] - 0s 4ms/sample - loss: 1.3569 - MSE: 1.3569 - MAE: 0.9697 - val_loss: 0.1647 - val_MSE: 0.1647 - val_MAE: 0.3554\n",
      "Epoch 42/100\n",
      "16/16 [==============================] - 0s 4ms/sample - loss: 1.3342 - MSE: 1.3342 - MAE: 0.9624 - val_loss: 0.1578 - val_MSE: 0.1578 - val_MAE: 0.3458\n",
      "Epoch 43/100\n",
      "16/16 [==============================] - 0s 4ms/sample - loss: 1.3119 - MSE: 1.3119 - MAE: 0.9551 - val_loss: 0.1512 - val_MSE: 0.1512 - val_MAE: 0.3362\n",
      "Epoch 44/100\n",
      "16/16 [==============================] - 0s 4ms/sample - loss: 1.2899 - MSE: 1.2899 - MAE: 0.9479 - val_loss: 0.1448 - val_MSE: 0.1448 - val_MAE: 0.3266\n",
      "Epoch 45/100\n",
      "16/16 [==============================] - 0s 5ms/sample - loss: 1.2683 - MSE: 1.2683 - MAE: 0.9407 - val_loss: 0.1386 - val_MSE: 0.1386 - val_MAE: 0.3171\n",
      "Epoch 46/100\n",
      "16/16 [==============================] - 0s 5ms/sample - loss: 1.2470 - MSE: 1.2470 - MAE: 0.9335 - val_loss: 0.1326 - val_MSE: 0.1326 - val_MAE: 0.3077\n",
      "Epoch 47/100\n",
      "16/16 [==============================] - 0s 5ms/sample - loss: 1.2261 - MSE: 1.2261 - MAE: 0.9264 - val_loss: 0.1268 - val_MSE: 0.1268 - val_MAE: 0.2983\n",
      "Epoch 48/100\n",
      "16/16 [==============================] - 0s 6ms/sample - loss: 1.2055 - MSE: 1.2055 - MAE: 0.9192 - val_loss: 0.1212 - val_MSE: 0.1212 - val_MAE: 0.2890\n",
      "Epoch 49/100\n",
      "16/16 [==============================] - 0s 5ms/sample - loss: 1.1852 - MSE: 1.1852 - MAE: 0.9122 - val_loss: 0.1159 - val_MSE: 0.1159 - val_MAE: 0.2797\n",
      "Epoch 50/100\n",
      "16/16 [==============================] - 0s 6ms/sample - loss: 1.1653 - MSE: 1.1653 - MAE: 0.9051 - val_loss: 0.1107 - val_MSE: 0.1107 - val_MAE: 0.2705\n"
     ]
    },
    {
     "name": "stdout",
     "output_type": "stream",
     "text": [
      "Epoch 51/100\n",
      "16/16 [==============================] - 0s 5ms/sample - loss: 1.1457 - MSE: 1.1457 - MAE: 0.8981 - val_loss: 0.1058 - val_MSE: 0.1058 - val_MAE: 0.2613\n",
      "Epoch 52/100\n",
      "16/16 [==============================] - 0s 4ms/sample - loss: 1.1264 - MSE: 1.1264 - MAE: 0.8911 - val_loss: 0.1011 - val_MSE: 0.1011 - val_MAE: 0.2522\n",
      "Epoch 53/100\n",
      "16/16 [==============================] - 0s 5ms/sample - loss: 1.1074 - MSE: 1.1074 - MAE: 0.8841 - val_loss: 0.0965 - val_MSE: 0.0965 - val_MAE: 0.2431\n",
      "Epoch 54/100\n",
      "16/16 [==============================] - 0s 4ms/sample - loss: 1.0887 - MSE: 1.0887 - MAE: 0.8772 - val_loss: 0.0921 - val_MSE: 0.0921 - val_MAE: 0.2341\n",
      "Epoch 55/100\n",
      "16/16 [==============================] - 0s 4ms/sample - loss: 1.0704 - MSE: 1.0704 - MAE: 0.8703 - val_loss: 0.0880 - val_MSE: 0.0880 - val_MAE: 0.2252\n",
      "Epoch 56/100\n",
      "16/16 [==============================] - 0s 4ms/sample - loss: 1.0523 - MSE: 1.0523 - MAE: 0.8635 - val_loss: 0.0840 - val_MSE: 0.0840 - val_MAE: 0.2163\n",
      "Epoch 57/100\n",
      "16/16 [==============================] - 0s 4ms/sample - loss: 1.0346 - MSE: 1.0346 - MAE: 0.8566 - val_loss: 0.0802 - val_MSE: 0.0802 - val_MAE: 0.2075\n",
      "Epoch 58/100\n",
      "16/16 [==============================] - 0s 4ms/sample - loss: 1.0172 - MSE: 1.0172 - MAE: 0.8498 - val_loss: 0.0766 - val_MSE: 0.0766 - val_MAE: 0.1987\n",
      "Epoch 59/100\n",
      "16/16 [==============================] - 0s 4ms/sample - loss: 1.0000 - MSE: 1.0000 - MAE: 0.8431 - val_loss: 0.0731 - val_MSE: 0.0731 - val_MAE: 0.1900\n",
      "Epoch 60/100\n",
      "16/16 [==============================] - 0s 6ms/sample - loss: 0.9832 - MSE: 0.9832 - MAE: 0.8363 - val_loss: 0.0698 - val_MSE: 0.0698 - val_MAE: 0.1814\n",
      "Epoch 61/100\n",
      "16/16 [==============================] - 0s 5ms/sample - loss: 0.9667 - MSE: 0.9667 - MAE: 0.8296 - val_loss: 0.0667 - val_MSE: 0.0667 - val_MAE: 0.1728\n",
      "Epoch 62/100\n",
      "16/16 [==============================] - 0s 5ms/sample - loss: 0.9504 - MSE: 0.9504 - MAE: 0.8230 - val_loss: 0.0638 - val_MSE: 0.0638 - val_MAE: 0.1665\n",
      "Epoch 63/100\n",
      "16/16 [==============================] - 0s 4ms/sample - loss: 0.9344 - MSE: 0.9344 - MAE: 0.8163 - val_loss: 0.0610 - val_MSE: 0.0610 - val_MAE: 0.1621\n",
      "Epoch 64/100\n",
      "16/16 [==============================] - 0s 4ms/sample - loss: 0.9188 - MSE: 0.9188 - MAE: 0.8097 - val_loss: 0.0584 - val_MSE: 0.0584 - val_MAE: 0.1578\n",
      "Epoch 65/100\n",
      "16/16 [==============================] - 0s 5ms/sample - loss: 0.9033 - MSE: 0.9033 - MAE: 0.8032 - val_loss: 0.0560 - val_MSE: 0.0560 - val_MAE: 0.1577\n",
      "Epoch 66/100\n",
      "16/16 [==============================] - 0s 5ms/sample - loss: 0.8882 - MSE: 0.8882 - MAE: 0.7967 - val_loss: 0.0537 - val_MSE: 0.0537 - val_MAE: 0.1576\n",
      "Epoch 67/100\n",
      "16/16 [==============================] - 0s 5ms/sample - loss: 0.8733 - MSE: 0.8733 - MAE: 0.7902 - val_loss: 0.0516 - val_MSE: 0.0516 - val_MAE: 0.1574\n",
      "Epoch 68/100\n",
      "16/16 [==============================] - 0s 5ms/sample - loss: 0.8587 - MSE: 0.8587 - MAE: 0.7837 - val_loss: 0.0496 - val_MSE: 0.0496 - val_MAE: 0.1573\n",
      "Epoch 69/100\n",
      "16/16 [==============================] - 0s 5ms/sample - loss: 0.8444 - MSE: 0.8444 - MAE: 0.7773 - val_loss: 0.0478 - val_MSE: 0.0478 - val_MAE: 0.1572\n",
      "Epoch 70/100\n",
      "16/16 [==============================] - 0s 4ms/sample - loss: 0.8303 - MSE: 0.8303 - MAE: 0.7709 - val_loss: 0.0461 - val_MSE: 0.0461 - val_MAE: 0.1571\n",
      "Epoch 71/100\n",
      "16/16 [==============================] - 0s 5ms/sample - loss: 0.8165 - MSE: 0.8165 - MAE: 0.7645 - val_loss: 0.0445 - val_MSE: 0.0445 - val_MAE: 0.1570\n",
      "Epoch 72/100\n",
      "16/16 [==============================] - 0s 4ms/sample - loss: 0.8030 - MSE: 0.8030 - MAE: 0.7582 - val_loss: 0.0431 - val_MSE: 0.0431 - val_MAE: 0.1569\n",
      "Epoch 73/100\n",
      "16/16 [==============================] - 0s 8ms/sample - loss: 0.7897 - MSE: 0.7897 - MAE: 0.7519 - val_loss: 0.0419 - val_MSE: 0.0419 - val_MAE: 0.1568\n",
      "Epoch 74/100\n",
      "16/16 [==============================] - 0s 6ms/sample - loss: 0.7766 - MSE: 0.7766 - MAE: 0.7456 - val_loss: 0.0407 - val_MSE: 0.0407 - val_MAE: 0.1567\n",
      "Epoch 75/100\n",
      "16/16 [==============================] - 0s 4ms/sample - loss: 0.7638 - MSE: 0.7638 - MAE: 0.7394 - val_loss: 0.0397 - val_MSE: 0.0397 - val_MAE: 0.1566\n",
      "Epoch 76/100\n",
      "16/16 [==============================] - 0s 5ms/sample - loss: 0.7512 - MSE: 0.7512 - MAE: 0.7332 - val_loss: 0.0389 - val_MSE: 0.0389 - val_MAE: 0.1565\n",
      "Epoch 77/100\n",
      "16/16 [==============================] - 0s 5ms/sample - loss: 0.7389 - MSE: 0.7389 - MAE: 0.7270 - val_loss: 0.0381 - val_MSE: 0.0381 - val_MAE: 0.1564\n",
      "Epoch 78/100\n",
      "16/16 [==============================] - 0s 5ms/sample - loss: 0.7268 - MSE: 0.7268 - MAE: 0.7209 - val_loss: 0.0375 - val_MSE: 0.0375 - val_MAE: 0.1563\n",
      "Epoch 79/100\n",
      "16/16 [==============================] - 0s 5ms/sample - loss: 0.7149 - MSE: 0.7149 - MAE: 0.7148 - val_loss: 0.0370 - val_MSE: 0.0370 - val_MAE: 0.1563\n",
      "Epoch 80/100\n",
      "16/16 [==============================] - 0s 5ms/sample - loss: 0.7033 - MSE: 0.7033 - MAE: 0.7088 - val_loss: 0.0366 - val_MSE: 0.0366 - val_MAE: 0.1562\n",
      "Epoch 81/100\n",
      "16/16 [==============================] - 0s 5ms/sample - loss: 0.6919 - MSE: 0.6919 - MAE: 0.7028 - val_loss: 0.0363 - val_MSE: 0.0363 - val_MAE: 0.1561\n",
      "Epoch 82/100\n",
      "16/16 [==============================] - 0s 5ms/sample - loss: 0.6807 - MSE: 0.6807 - MAE: 0.6968 - val_loss: 0.0361 - val_MSE: 0.0361 - val_MAE: 0.1560\n",
      "Epoch 83/100\n",
      "16/16 [==============================] - 0s 4ms/sample - loss: 0.6697 - MSE: 0.6697 - MAE: 0.6908 - val_loss: 0.0361 - val_MSE: 0.0361 - val_MAE: 0.1560\n",
      "Epoch 84/100\n",
      "16/16 [==============================] - 0s 5ms/sample - loss: 0.6589 - MSE: 0.6589 - MAE: 0.6858 - val_loss: 0.0361 - val_MSE: 0.0361 - val_MAE: 0.1586\n",
      "Epoch 85/100\n",
      "16/16 [==============================] - 0s 6ms/sample - loss: 0.6484 - MSE: 0.6484 - MAE: 0.6808 - val_loss: 0.0363 - val_MSE: 0.0363 - val_MAE: 0.1621\n",
      "Epoch 86/100\n",
      "16/16 [==============================] - 0s 6ms/sample - loss: 0.6381 - MSE: 0.6381 - MAE: 0.6758 - val_loss: 0.0365 - val_MSE: 0.0365 - val_MAE: 0.1656\n",
      "Epoch 87/100\n",
      "16/16 [==============================] - 0s 5ms/sample - loss: 0.6279 - MSE: 0.6279 - MAE: 0.6709 - val_loss: 0.0369 - val_MSE: 0.0369 - val_MAE: 0.1691\n",
      "Epoch 88/100\n",
      "16/16 [==============================] - 0s 5ms/sample - loss: 0.6180 - MSE: 0.6180 - MAE: 0.6660 - val_loss: 0.0373 - val_MSE: 0.0373 - val_MAE: 0.1726\n",
      "Epoch 89/100\n",
      "16/16 [==============================] - 0s 5ms/sample - loss: 0.6083 - MSE: 0.6083 - MAE: 0.6611 - val_loss: 0.0379 - val_MSE: 0.0379 - val_MAE: 0.1760\n",
      "Epoch 90/100\n",
      "16/16 [==============================] - 0s 5ms/sample - loss: 0.5988 - MSE: 0.5988 - MAE: 0.6562 - val_loss: 0.0385 - val_MSE: 0.0385 - val_MAE: 0.1794\n",
      "Epoch 91/100\n",
      "16/16 [==============================] - 0s 5ms/sample - loss: 0.5894 - MSE: 0.5894 - MAE: 0.6514 - val_loss: 0.0392 - val_MSE: 0.0392 - val_MAE: 0.1828\n",
      "Epoch 92/100\n",
      "16/16 [==============================] - 0s 5ms/sample - loss: 0.5803 - MSE: 0.5803 - MAE: 0.6466 - val_loss: 0.0400 - val_MSE: 0.0400 - val_MAE: 0.1861\n",
      "Epoch 93/100\n",
      "16/16 [==============================] - 0s 5ms/sample - loss: 0.5713 - MSE: 0.5713 - MAE: 0.6418 - val_loss: 0.0409 - val_MSE: 0.0409 - val_MAE: 0.1894\n",
      "Epoch 94/100\n",
      "16/16 [==============================] - 0s 4ms/sample - loss: 0.5625 - MSE: 0.5625 - MAE: 0.6371 - val_loss: 0.0419 - val_MSE: 0.0419 - val_MAE: 0.1927\n",
      "Epoch 95/100\n",
      "16/16 [==============================] - 0s 4ms/sample - loss: 0.5540 - MSE: 0.5540 - MAE: 0.6324 - val_loss: 0.0429 - val_MSE: 0.0429 - val_MAE: 0.1960\n",
      "Epoch 96/100\n",
      "16/16 [==============================] - 0s 5ms/sample - loss: 0.5456 - MSE: 0.5456 - MAE: 0.6277 - val_loss: 0.0440 - val_MSE: 0.0440 - val_MAE: 0.1992\n",
      "Epoch 97/100\n",
      "16/16 [==============================] - 0s 4ms/sample - loss: 0.5373 - MSE: 0.5373 - MAE: 0.6230 - val_loss: 0.0452 - val_MSE: 0.0452 - val_MAE: 0.2024\n",
      "Epoch 98/100\n",
      "16/16 [==============================] - 0s 6ms/sample - loss: 0.5293 - MSE: 0.5293 - MAE: 0.6184 - val_loss: 0.0465 - val_MSE: 0.0465 - val_MAE: 0.2056\n",
      "Epoch 99/100\n",
      "16/16 [==============================] - 0s 6ms/sample - loss: 0.5214 - MSE: 0.5214 - MAE: 0.6138 - val_loss: 0.0478 - val_MSE: 0.0478 - val_MAE: 0.2087\n",
      "Epoch 100/100\n",
      "16/16 [==============================] - 0s 5ms/sample - loss: 0.5137 - MSE: 0.5137 - MAE: 0.6092 - val_loss: 0.0492 - val_MSE: 0.0492 - val_MAE: 0.2118\n"
     ]
    }
   ],
   "source": [
    "n_epochs = 100\n",
    "\n",
    "history = model.fit(Xtrain, Ttrain, epochs=n_epochs, validation_split=0.2)"
   ]
  },
  {
   "cell_type": "code",
   "execution_count": 12,
   "metadata": {},
   "outputs": [
    {
     "data": {
      "text/plain": [
       "dict_keys(['loss', 'MSE', 'MAE', 'val_loss', 'val_MSE', 'val_MAE'])"
      ]
     },
     "execution_count": 12,
     "metadata": {},
     "output_type": "execute_result"
    }
   ],
   "source": [
    "history.history.keys()"
   ]
  },
  {
   "cell_type": "code",
   "execution_count": 13,
   "metadata": {
    "scrolled": true
   },
   "outputs": [
    {
     "data": {
      "text/plain": [
       "Text(0, 0.5, 'Actual and Predicted $f(x)$')"
      ]
     },
     "execution_count": 13,
     "metadata": {},
     "output_type": "execute_result"
    },
    {
     "data": {
      "image/png": "[encoded data removed]",
      "text/plain": [
       "<Figure size 720x432 with 2 Axes>"
      ]
     },
     "metadata": {
      "needs_background": "light"
     },
     "output_type": "display_data"
    }
   ],
   "source": [
    "\n",
    "fig = plt.figure(figsize=(10,6))\n",
    "\n",
    "plt.subplot(2,1,1)\n",
    "plt.plot(history.history['loss'])\n",
    "plt.ylim(0,0.7)\n",
    "plt.xlabel('Epochs')\n",
    "plt.ylabel('RMSE')\n",
    "plt.legend(('Train','Test'),loc='upper left')\n",
    "\n",
    "plt.subplot(2,1,2)\n",
    "plt.plot(Xtrain,Ttrain,'o-', Xtest,Ttest,'o-', Xtest, model.predict(Xtest),'o-')\n",
    "plt.xlim(-10,10)\n",
    "plt.legend(('Training','Testing','Model'),loc='upper left')\n",
    "plt.xlabel('$x$')\n",
    "plt.ylabel('Actual and Predicted $f(x)$')\n",
    "\n"
   ]
  },
  {
   "cell_type": "markdown",
   "metadata": {},
   "source": [
    "# Going Deeper with TF\n",
    "\n",
    "Previous neural networks are still shallow. Now let us modify the codes to make deeper. "
   ]
  },
  {
   "cell_type": "code",
   "execution_count": 14,
   "metadata": {},
   "outputs": [
    {
     "name": "stdout",
     "output_type": "stream",
     "text": [
      "Model: \"sequential_1\"\n",
      "_________________________________________________________________\n",
      "Layer (type)                 Output Shape              Param #   \n",
      "=================================================================\n",
      "flatten_1 (Flatten)          (None, 1)                 0         \n",
      "_________________________________________________________________\n",
      "dense_2 (Dense)              (None, 3)                 6         \n",
      "_________________________________________________________________\n",
      "dense_3 (Dense)              (None, 3)                 12        \n",
      "_________________________________________________________________\n",
      "dense_4 (Dense)              (None, 3)                 12        \n",
      "_________________________________________________________________\n",
      "dense_5 (Dense)              (None, 1)                 4         \n",
      "=================================================================\n",
      "Total params: 34\n",
      "Trainable params: 34\n",
      "Non-trainable params: 0\n",
      "_________________________________________________________________\n"
     ]
    }
   ],
   "source": [
    "# You can go deep by stacking the dense (full-connected) layers\n",
    "\n",
    "\n",
    "ni = 1\n",
    "nh1 = 3\n",
    "nh2 = 3\n",
    "nh3 = 3\n",
    "no = 1\n",
    "learning_rate = 0.1\n",
    "\n",
    "\n",
    "# build a neural network model\n",
    "model = keras.Sequential([\n",
    "            keras.layers.Flatten(input_shape=[ni]),\n",
    "            keras.layers.Dense(nh1, activation='tanh'),\n",
    "            keras.layers.Dense(nh2, activation='tanh'),\n",
    "            keras.layers.Dense(nh3, activation='tanh'),\n",
    "            keras.layers.Dense(no)\n",
    "        ])\n",
    "\n",
    "# compile the model\n",
    "model.compile(optimizer='adam',\n",
    "              loss='mse', \n",
    "              metrics=['MSE', 'MAE'])\n",
    "\n",
    "model.summary()"
   ]
  },
  {
   "cell_type": "markdown",
   "metadata": {},
   "source": [
    "# Training Deep Nets"
   ]
  },
  {
   "cell_type": "markdown",
   "metadata": {},
   "source": [
    "## Initialization\n",
    "\n",
    "[Glorot and Bengio](http://proceedings.mlr.press/v9/glorot10a.html) discussed about how we can initialize the weights to ensure deep networks not to have the vanishing gradient problem. The basic idea of it was how to make the neural networks to have equal variance for the outputs to the inputs. Later, [He, et al.](https://arxiv.org/abs/1502.01852), also suggested an efficient initialization for the ReLU activation functions. \n",
    "\n",
    "Here follows the table from the text. \n",
    "\n",
    "<img src=\"http://webpages.uncc.edu/mlee173/teach/itcs4156online/images/class/nn_init.png\" width=600 />\n",
    "\n",
    "In TensorFlow, the Xavier initialization ('glorot_uniform') is default. To select a He initialization, you can use this code. "
   ]
  },
  {
   "cell_type": "code",
   "execution_count": 15,
   "metadata": {},
   "outputs": [
    {
     "name": "stdout",
     "output_type": "stream",
     "text": [
      "Model: \"sequential_2\"\n",
      "_________________________________________________________________\n",
      "Layer (type)                 Output Shape              Param #   \n",
      "=================================================================\n",
      "flatten_2 (Flatten)          (None, 1)                 0         \n",
      "_________________________________________________________________\n",
      "dense_6 (Dense)              (None, 3)                 6         \n",
      "_________________________________________________________________\n",
      "dense_7 (Dense)              (None, 3)                 12        \n",
      "_________________________________________________________________\n",
      "dense_8 (Dense)              (None, 3)                 12        \n",
      "_________________________________________________________________\n",
      "dense_9 (Dense)              (None, 1)                 4         \n",
      "=================================================================\n",
      "Total params: 34\n",
      "Trainable params: 34\n",
      "Non-trainable params: 0\n",
      "_________________________________________________________________\n"
     ]
    }
   ],
   "source": [
    "\n",
    "# build a neural network model\n",
    "model = keras.Sequential([\n",
    "            keras.layers.Flatten(input_shape=[ni]),\n",
    "            keras.layers.Dense(nh1, activation='tanh', kernel_initializer='he_normal'),\n",
    "            keras.layers.Dense(nh2, activation='tanh', kernel_initializer='he_normal'),\n",
    "            keras.layers.Dense(nh3, activation='tanh', kernel_initializer='he_normal'),\n",
    "            keras.layers.Dense(no)\n",
    "        ])\n",
    "\n",
    "# compile the model\n",
    "model.compile(optimizer='adam',\n",
    "              loss='mse', \n",
    "              metrics=['MSE', 'MAE'])\n",
    "\n",
    "model.summary()"
   ]
  },
  {
   "cell_type": "markdown",
   "metadata": {},
   "source": [
    "## Activation Function\n",
    "\n",
    "Previously, we have discussed about various choice of activation functions briefly.\n",
    "In deep networks, vanishing or exploding gradient problems were in part due to a poor choice of activation function.\n",
    "The s-shape curves like logistic sigmoid or tanh saturates to when inputs become very large. This can result in nearly zero derivative, which affects other layers' gradient. ReLU, the Rectifier Linear Unit, does not have any positive saturation with simple and fast gradient (0 or 1). \n",
    "However, ReLU has well-known *dying ReLU* problem that always outputs 0. Since the gradient of ReLU for negative inputs are 0, it is unlikely to be recovered when a ReLU is dead. \n",
    "Leaky ReLU suggests a solution by allowing leaks for negative inputs. That is, now you have a slope, typically 0.01, for the negatives. \n",
    "Now, let us take a look at the activation functions in the following codes.\n"
   ]
  },
  {
   "cell_type": "code",
   "execution_count": 16,
   "metadata": {},
   "outputs": [
    {
     "data": {
      "text/plain": [
       "<matplotlib.legend.Legend at 0x640457890>"
      ]
     },
     "execution_count": 16,
     "metadata": {},
     "output_type": "execute_result"
    },
    {
     "data": {
      "image/png": "[encoded data removed]",
      "text/plain": [
       "<Figure size 576x576 with 1 Axes>"
      ]
     },
     "metadata": {
      "needs_background": "light"
     },
     "output_type": "display_data"
    }
   ],
   "source": [
    "# Activation Functions\n",
    "\n",
    "def step(x):\n",
    "    return 1 if x > 0 else -1\n",
    "\n",
    "def sigmoid(x):\n",
    "    return 1 / (1 + np.exp(-x))\n",
    "\n",
    "def tanh(x):\n",
    "    return np.tanh(x)\n",
    "\n",
    "def relu(x):\n",
    "    return x if x > 0 else 0\n",
    "\n",
    "def leak_relu(x):\n",
    "    return x if x > 0 else 0.01 * x\n",
    "\n",
    "def softplus(x):\n",
    "    return np.log(1+np.exp(x))\n",
    "\n",
    "def gauss(x):\n",
    "    return np.exp(-x**2)\n",
    "\n",
    "COLORS=['g','r','y','c','m','b','k']\n",
    "LABELS=['Step','Sigmoid','tanh','ReLU','Leaky ReLU','SoftPlus','RBF']\n",
    "x = np.linspace(-3, 3, 100)\n",
    "\n",
    "plt.figure(figsize=(8,8))\n",
    "for i, f in enumerate([step, sigmoid, tanh, relu, leak_relu, softplus, gauss]):\n",
    "     plt.plot(x, list(map(f,x)), color=COLORS[i], linewidth=4 if i!=4 else 2, label=LABELS[i])\n",
    "\n",
    "plt.legend()"
   ]
  },
  {
   "cell_type": "markdown",
   "metadata": {},
   "source": [
    "Our text discuss more choices that extends ReLU, including ELU (Exponential Linear Unit). This has been improved training time and better performance on the test data. \n",
    "\n",
    "$$\n",
    "ELU_\\alpha (z) = \\begin{cases}\n",
    "    \\alpha( \\exp(z) - 1)      & \\quad \\text{if } z < 0\\\\\n",
    "    z  & \\quad \\text{if } z \\ge 0\n",
    "  \\end{cases}\n",
    "$$\n",
    "\n",
    "The negative outputs for negative inputs help a hidden unit to produce outputs centered to zero. This helps speed up learning. Also, similar to Leaky ReLU, the nonzero gradient for negetive inputs avoids the dying ReLU. "
   ]
  },
  {
   "cell_type": "code",
   "execution_count": 17,
   "metadata": {
    "collapsed": true
   },
   "outputs": [],
   "source": [
    "def elu(z, alpha=1):\n",
    "    return np.where(z < 0, alpha * (np.exp(z) - 1), z)"
   ]
  },
  {
   "cell_type": "code",
   "execution_count": 18,
   "metadata": {},
   "outputs": [
    {
     "data": {
      "image/png": "[encoded data removed]",
      "text/plain": [
       "<Figure size 432x288 with 1 Axes>"
      ]
     },
     "metadata": {
      "needs_background": "light"
     },
     "output_type": "display_data"
    }
   ],
   "source": [
    "z = np.linspace(-5, 5, 200)\n",
    "\n",
    "plt.plot(z, elu(z), \"b-\", linewidth=2)\n",
    "plt.plot([-5, 5], [0, 0], 'k-')\n",
    "plt.plot([-5, 5], [-1, -1], 'k--')\n",
    "plt.plot([0, 0], [-2.2, 3.2], 'k-')\n",
    "plt.grid(True)\n",
    "plt.title(r\"ELU activation function ($\\alpha=1$)\", fontsize=14)\n",
    "plt.axis([-5, 5, -2.2, 3.2])\n",
    "plt.show()"
   ]
  },
  {
   "cell_type": "markdown",
   "metadata": {},
   "source": [
    "### SELU\n",
    "\n",
    "This activation function was proposed in this [great paper](https://arxiv.org/pdf/1706.02515.pdf) by Günter Klambauer, Thomas Unterthiner and Andreas Mayr, published in June 2017 (I will definitely add it to the book). It outperforms the other activation functions very significantly for deep neural networks, so you should really try it out.\n",
    "\n",
    "According to the author of our text, this activation function preserves the mean 0 and standard deviation 1 across all layers of neural networks with 100 layers. That is amzaing! "
   ]
  },
  {
   "cell_type": "code",
   "execution_count": 19,
   "metadata": {
    "collapsed": true
   },
   "outputs": [],
   "source": [
    "def selu(z,\n",
    "         scale=1.0507009873554804934193349852946,\n",
    "         alpha=1.6732632423543772848170429916717):\n",
    "    return scale * elu(z, alpha)"
   ]
  },
  {
   "cell_type": "code",
   "execution_count": 20,
   "metadata": {},
   "outputs": [
    {
     "data": {
      "image/png": "[encoded data removed]",
      "text/plain": [
       "<Figure size 432x288 with 1 Axes>"
      ]
     },
     "metadata": {
      "needs_background": "light"
     },
     "output_type": "display_data"
    }
   ],
   "source": [
    "plt.plot(z, selu(z), \"b-\", linewidth=2)\n",
    "plt.plot([-5, 5], [0, 0], 'k-')\n",
    "plt.plot([-5, 5], [-1.758, -1.758], 'k--')\n",
    "plt.plot([0, 0], [-2.2, 3.2], 'k-')\n",
    "plt.grid(True)\n",
    "plt.title(r\"SELU activation function\", fontsize=14)\n",
    "plt.axis([-5, 5, -2.2, 3.2])\n",
    "\n",
    "plt.show()"
   ]
  },
  {
   "cell_type": "markdown",
   "metadata": {},
   "source": [
    "Now, let us try this in TensorFlow. "
   ]
  },
  {
   "cell_type": "code",
   "execution_count": 21,
   "metadata": {
    "collapsed": true
   },
   "outputs": [],
   "source": [
    "def selu(z,\n",
    "         scale=1.0507009873554804934193349852946,\n",
    "         alpha=1.6732632423543772848170429916717):\n",
    "    return scale * tf.where(z >= 0.0, z, alpha * tf.nn.elu(z))\n",
    "\n"
   ]
  },
  {
   "cell_type": "code",
   "execution_count": 22,
   "metadata": {},
   "outputs": [
    {
     "data": {
      "text/plain": [
       "<tensorflow.python.keras.layers.core.Dense at 0x640d5f450>"
      ]
     },
     "execution_count": 22,
     "metadata": {},
     "output_type": "execute_result"
    }
   ],
   "source": [
    "# to use SELU activation, you just need to create the dense layer with activation parameter!\n",
    "# bypassing the custom function\n",
    "keras.layers.Dense(nh1, activation=selu)  \n"
   ]
  },
  {
   "cell_type": "markdown",
   "metadata": {},
   "source": [
    "Or, you can use the preset activation functions. The list of builtin activation functions are available from https://www.tensorflow.org/api_docs/python/tf/keras/activations. "
   ]
  },
  {
   "cell_type": "code",
   "execution_count": 23,
   "metadata": {},
   "outputs": [
    {
     "data": {
      "text/plain": [
       "<tensorflow.python.keras.layers.core.Dense at 0x64024fbd0>"
      ]
     },
     "execution_count": 23,
     "metadata": {},
     "output_type": "execute_result"
    }
   ],
   "source": [
    "keras.layers.Dense(nh1, activation='selu')  "
   ]
  },
  {
   "cell_type": "markdown",
   "metadata": {},
   "source": [
    "# Example: MNIST Hand-written Digit Classification"
   ]
  },
  {
   "cell_type": "markdown",
   "metadata": {},
   "source": [
    "Let us apply the deep neural networks to MNIST data, which is builtin tensorflow library. "
   ]
  },
  {
   "cell_type": "code",
   "execution_count": 24,
   "metadata": {
    "collapsed": true
   },
   "outputs": [],
   "source": [
    "# MNIST Example\n",
    "\n",
    "mnist = tf.keras.datasets.mnist\n",
    "\n",
    "(x_train, y_train), (x_test, y_test) = mnist.load_data()\n",
    "x_train, x_test = x_train / 255.0, x_test / 255.0"
   ]
  },
  {
   "cell_type": "code",
   "execution_count": 25,
   "metadata": {},
   "outputs": [
    {
     "name": "stdout",
     "output_type": "stream",
     "text": [
      "35689\n"
     ]
    },
    {
     "data": {
      "text/plain": [
       "<matplotlib.image.AxesImage at 0x640fa5150>"
      ]
     },
     "execution_count": 25,
     "metadata": {},
     "output_type": "execute_result"
    },
    {
     "data": {
      "image/png": "[encoded data removed]",
      "text/plain": [
       "<Figure size 432x288 with 1 Axes>"
      ]
     },
     "metadata": {
      "needs_background": "light"
     },
     "output_type": "display_data"
    }
   ],
   "source": [
    "randidx = np.random.randint(x_train.shape[0])\n",
    "print(randidx)\n",
    "plt.imshow(x_train[randidx].reshape((28,28)), cmap='gray')"
   ]
  },
  {
   "cell_type": "code",
   "execution_count": 26,
   "metadata": {},
   "outputs": [
    {
     "name": "stdout",
     "output_type": "stream",
     "text": [
      "Model: \"sequential_3\"\n",
      "_________________________________________________________________\n",
      "Layer (type)                 Output Shape              Param #   \n",
      "=================================================================\n",
      "flatten_3 (Flatten)          (None, 784)               0         \n",
      "_________________________________________________________________\n",
      "dense_12 (Dense)             (None, 128)               100480    \n",
      "_________________________________________________________________\n",
      "dense_13 (Dense)             (None, 10)                1290      \n",
      "=================================================================\n",
      "Total params: 101,770\n",
      "Trainable params: 101,770\n",
      "Non-trainable params: 0\n",
      "_________________________________________________________________\n"
     ]
    }
   ],
   "source": [
    "# Building a network\n",
    "tf.keras.backend.set_floatx('float64')\n",
    "\n",
    "model = keras.Sequential([\n",
    "    keras.layers.Flatten(input_shape=(28, 28)),\n",
    "    keras.layers.Dense(128, activation='relu'),\n",
    "    keras.layers.Dense(10)\n",
    "])\n",
    "\n",
    "model.compile(optimizer='adam',\n",
    "              loss=tf.keras.losses.SparseCategoricalCrossentropy(from_logits=True),\n",
    "              metrics=['accuracy'])\n",
    "\n",
    "model.summary()"
   ]
  },
  {
   "cell_type": "code",
   "execution_count": 28,
   "metadata": {},
   "outputs": [
    {
     "name": "stdout",
     "output_type": "stream",
     "text": [
      "Train on 60000 samples\n",
      "Epoch 1/10\n",
      "60000/60000 [==============================] - 13s 222us/sample - loss: 0.0084 - accuracy: 0.9975\n",
      "Epoch 2/10\n",
      "60000/60000 [==============================] - 13s 215us/sample - loss: 0.0079 - accuracy: 0.9974\n",
      "Epoch 3/10\n",
      "60000/60000 [==============================] - 13s 211us/sample - loss: 0.0058 - accuracy: 0.9983\n",
      "Epoch 4/10\n",
      "60000/60000 [==============================] - 13s 213us/sample - loss: 0.0074 - accuracy: 0.9974\n",
      "Epoch 5/10\n",
      "60000/60000 [==============================] - 13s 213us/sample - loss: 0.0038 - accuracy: 0.9989\n",
      "Epoch 6/10\n",
      "60000/60000 [==============================] - 16s 266us/sample - loss: 0.0067 - accuracy: 0.9980\n",
      "Epoch 7/10\n",
      "60000/60000 [==============================] - 14s 239us/sample - loss: 0.0050 - accuracy: 0.9985\n",
      "Epoch 8/10\n",
      "60000/60000 [==============================] - 13s 215us/sample - loss: 0.0057 - accuracy: 0.9981\n",
      "Epoch 9/10\n",
      "60000/60000 [==============================] - 14s 233us/sample - loss: 0.0034 - accuracy: 0.9990\n",
      "Epoch 10/10\n",
      "60000/60000 [==============================] - 13s 217us/sample - loss: 0.0059 - accuracy: 0.9982\n"
     ]
    },
    {
     "data": {
      "text/plain": [
       "<tensorflow.python.keras.callbacks.History at 0x64345a5d0>"
      ]
     },
     "execution_count": 28,
     "metadata": {},
     "output_type": "execute_result"
    }
   ],
   "source": [
    "model.fit(x_train, y_train, epochs=10)"
   ]
  },
  {
   "cell_type": "markdown",
   "metadata": {},
   "source": [
    "## Batch Normalization\n",
    "\n",
    "[Ioffe and Szegedy](https://arxiv.org/pdf/1502.03167.pdf) proposed a batch normalization technique to avoid the vanishing gradient problem. Unlike the standard normalization, it has minibatch normalization on each layer. \n",
    "That is, before applying an activation function, it applies normalization of the data, centering to zero and normalizing, scaling and shifting the inputs. \n",
    "\n",
    "Here follows the codes for it."
   ]
  },
  {
   "cell_type": "code",
   "execution_count": 29,
   "metadata": {
    "collapsed": true
   },
   "outputs": [],
   "source": [
    "def build_model():\n",
    "    model = keras.Sequential([\n",
    "                keras.layers.Flatten(input_shape=(28, 28)),\n",
    "                keras.layers.BatchNormalization(),\n",
    "                keras.layers.Dense(128, activation='relu'),\n",
    "                keras.layers.BatchNormalization(),    \n",
    "                keras.layers.Dense(10)\n",
    "            ])\n",
    "    return model"
   ]
  },
  {
   "cell_type": "code",
   "execution_count": 30,
   "metadata": {},
   "outputs": [
    {
     "name": "stdout",
     "output_type": "stream",
     "text": [
      "Model: \"sequential_4\"\n",
      "_________________________________________________________________\n",
      "Layer (type)                 Output Shape              Param #   \n",
      "=================================================================\n",
      "flatten_4 (Flatten)          (None, 784)               0         \n",
      "_________________________________________________________________\n",
      "batch_normalization (BatchNo (None, 784)               3136      \n",
      "_________________________________________________________________\n",
      "dense_14 (Dense)             (None, 128)               100480    \n",
      "_________________________________________________________________\n",
      "batch_normalization_1 (Batch (None, 128)               512       \n",
      "_________________________________________________________________\n",
      "dense_15 (Dense)             (None, 10)                1290      \n",
      "=================================================================\n",
      "Total params: 105,418\n",
      "Trainable params: 103,594\n",
      "Non-trainable params: 1,824\n",
      "_________________________________________________________________\n"
     ]
    }
   ],
   "source": [
    "model = build_model()\n",
    "model.compile(optimizer='adam',\n",
    "              loss=tf.keras.losses.SparseCategoricalCrossentropy(from_logits=True),\n",
    "              metrics=['accuracy'])\n",
    "\n",
    "model.summary()"
   ]
  },
  {
   "cell_type": "markdown",
   "metadata": {},
   "source": [
    "Borrowing the codes from the text, we can have the batch normalized version as below:"
   ]
  },
  {
   "cell_type": "code",
   "execution_count": 31,
   "metadata": {},
   "outputs": [
    {
     "name": "stdout",
     "output_type": "stream",
     "text": [
      "Train on 60000 samples\n",
      "Epoch 1/10\n",
      "60000/60000 [==============================] - 22s 371us/sample - loss: 0.2348 - accuracy: 0.9302\n",
      "Epoch 2/10\n",
      "60000/60000 [==============================] - 21s 354us/sample - loss: 0.1162 - accuracy: 0.9650\n",
      "Epoch 3/10\n",
      "60000/60000 [==============================] - 21s 349us/sample - loss: 0.0892 - accuracy: 0.9718\n",
      "Epoch 4/10\n",
      "60000/60000 [==============================] - 23s 381us/sample - loss: 0.0717 - accuracy: 0.9772\n",
      "Epoch 5/10\n",
      "60000/60000 [==============================] - 21s 353us/sample - loss: 0.0636 - accuracy: 0.9787\n",
      "Epoch 6/10\n",
      "60000/60000 [==============================] - 21s 354us/sample - loss: 0.0531 - accuracy: 0.9823\n",
      "Epoch 7/10\n",
      "60000/60000 [==============================] - 21s 345us/sample - loss: 0.0448 - accuracy: 0.9852\n",
      "Epoch 8/10\n",
      "60000/60000 [==============================] - 21s 348us/sample - loss: 0.0434 - accuracy: 0.9861\n",
      "Epoch 9/10\n",
      "60000/60000 [==============================] - 21s 354us/sample - loss: 0.0400 - accuracy: 0.9870\n",
      "Epoch 10/10\n",
      "60000/60000 [==============================] - 22s 366us/sample - loss: 0.0371 - accuracy: 0.9870\n"
     ]
    },
    {
     "data": {
      "text/plain": [
       "<tensorflow.python.keras.callbacks.History at 0x6436ffdd0>"
      ]
     },
     "execution_count": 31,
     "metadata": {},
     "output_type": "execute_result"
    }
   ],
   "source": [
    "model.fit(x_train, y_train, epochs=10)"
   ]
  },
  {
   "cell_type": "markdown",
   "metadata": {},
   "source": [
    "# Reusing Pretrained Layers! \n",
    "\n",
    "Often, the training deep network requires a fair amount of time. For similar problems, instead of training a very large deep network from scratch, you can always reuse old networks for similar problems as the figure below: \n",
    "<img src=\"http://webpages.uncc.edu/mlee173/teach/itcs4156online/images/class/nn_reuse.png\" width=600 />\n",
    "\n",
    "\n",
    "First, we store checkpoints during training by using ModelCheckpoint callback. "
   ]
  },
  {
   "cell_type": "code",
   "execution_count": 32,
   "metadata": {},
   "outputs": [
    {
     "name": "stdout",
     "output_type": "stream",
     "text": [
      "WARNING:tensorflow:`period` argument is deprecated. Please use `save_freq` to specify the frequency in number of samples seen.\n",
      "Train on 60000 samples, validate on 10000 samples\n",
      "Epoch 1/10\n",
      "60000/60000 [==============================] - 29s 476us/sample - loss: 0.0318 - accuracy: 0.9895 - val_loss: 0.1239 - val_accuracy: 0.9754\n",
      "Epoch 2/10\n",
      "60000/60000 [==============================] - 24s 406us/sample - loss: 0.0324 - accuracy: 0.9892 - val_loss: 0.1328 - val_accuracy: 0.9749\n",
      "Epoch 3/10\n",
      "60000/60000 [==============================] - 24s 408us/sample - loss: 0.0282 - accuracy: 0.9908 - val_loss: 0.1402 - val_accuracy: 0.9741\n",
      "Epoch 4/10\n",
      "60000/60000 [==============================] - 24s 392us/sample - loss: 0.0294 - accuracy: 0.9900 - val_loss: 0.1282 - val_accuracy: 0.9769\n",
      "Epoch 5/10\n",
      "59968/60000 [============================>.] - ETA: 0s - loss: 0.0259 - accuracy: 0.9910\n",
      "Epoch 00005: saving model to training_1/cp.ckpt\n",
      "60000/60000 [==============================] - 24s 407us/sample - loss: 0.0259 - accuracy: 0.9910 - val_loss: 0.1272 - val_accuracy: 0.9756\n",
      "Epoch 6/10\n",
      "60000/60000 [==============================] - 26s 438us/sample - loss: 0.0263 - accuracy: 0.9914 - val_loss: 0.1289 - val_accuracy: 0.9752\n",
      "Epoch 7/10\n",
      "60000/60000 [==============================] - 22s 366us/sample - loss: 0.0260 - accuracy: 0.9911 - val_loss: 0.1362 - val_accuracy: 0.9753\n",
      "Epoch 8/10\n",
      "60000/60000 [==============================] - 24s 395us/sample - loss: 0.0241 - accuracy: 0.9915 - val_loss: 0.1448 - val_accuracy: 0.9746\n",
      "Epoch 9/10\n",
      "60000/60000 [==============================] - 22s 375us/sample - loss: 0.0244 - accuracy: 0.9916 - val_loss: 0.1423 - val_accuracy: 0.9751\n",
      "Epoch 10/10\n",
      "59968/60000 [============================>.] - ETA: 0s - loss: 0.0236 - accuracy: 0.9922\n",
      "Epoch 00010: saving model to training_1/cp.ckpt\n",
      "60000/60000 [==============================] - 23s 381us/sample - loss: 0.0236 - accuracy: 0.9922 - val_loss: 0.1297 - val_accuracy: 0.9760\n"
     ]
    },
    {
     "data": {
      "text/plain": [
       "<tensorflow.python.keras.callbacks.History at 0x6441b6e10>"
      ]
     },
     "execution_count": 32,
     "metadata": {},
     "output_type": "execute_result"
    }
   ],
   "source": [
    "checkpoint_path = \"training_1/cp.ckpt\"\n",
    "checkpoint_dir = os.path.dirname(checkpoint_path)\n",
    "\n",
    "# Create a callback that saves the model's weights\n",
    "cp_callback = keras.callbacks.ModelCheckpoint(filepath=checkpoint_path,\n",
    "                                                 save_weights_only=True,\n",
    "                                                 verbose=1,\n",
    "                                                 period=5) # every 10 epoch\n",
    "\n",
    "# Train the model with the new callback\n",
    "model.fit(x_train, \n",
    "          y_train,  \n",
    "          epochs=10,\n",
    "          validation_data=(x_test, y_test),\n",
    "          callbacks=[cp_callback])  # Pass callback to training\n",
    "\n",
    "# This may generate warnings related to saving the state of the optimizer.\n",
    "# These warnings (and similar warnings throughout this notebook)\n",
    "# are in place to discourage outdated usage, and can be ignored."
   ]
  },
  {
   "cell_type": "markdown",
   "metadata": {},
   "source": [
    "Now, we can load from the checkpoint to load the pre-trained model to be reused. "
   ]
  },
  {
   "cell_type": "code",
   "execution_count": 35,
   "metadata": {
    "collapsed": true
   },
   "outputs": [],
   "source": [
    "latest = tf.train.latest_checkpoint(checkpoint_dir)"
   ]
  },
  {
   "cell_type": "code",
   "execution_count": 36,
   "metadata": {},
   "outputs": [
    {
     "data": {
      "text/plain": [
       "<tensorflow.python.training.tracking.util.CheckpointLoadStatus at 0x6441dd450>"
      ]
     },
     "execution_count": 36,
     "metadata": {},
     "output_type": "execute_result"
    }
   ],
   "source": [
    "model = build_model() \n",
    "\n",
    "model.load_weights(latest)"
   ]
  },
  {
   "cell_type": "markdown",
   "metadata": {},
   "source": [
    "You can manually save weights with save_weights or save_model APIs. Please refer the [tutorial page](https://www.tensorflow.org/tutorials/keras/save_and_load). "
   ]
  },
  {
   "cell_type": "markdown",
   "metadata": {},
   "source": [
    "## More tricks...\n",
    "\n",
    "There are far more tricks are disucssed in our text. Please download the python notebook from the GitHub, practice them by yourself. \n"
   ]
  },
  {
   "cell_type": "markdown",
   "metadata": {},
   "source": [
    "# Regularization\n",
    "\n",
    "We have discussed about some regularization techniques such as early stopping, regularization, adding noises, and so on. For neural networks, you can consider dropout that turns some hidden nodes with dropout rate (usually 50%) for training. It has successfully generated better model in many practical applications. So you can consider add a line for tf.layers.dropout() call.  "
   ]
  },
  {
   "cell_type": "code",
   "execution_count": 37,
   "metadata": {},
   "outputs": [
    {
     "name": "stdout",
     "output_type": "stream",
     "text": [
      "Model: \"sequential_7\"\n",
      "_________________________________________________________________\n",
      "Layer (type)                 Output Shape              Param #   \n",
      "=================================================================\n",
      "flatten_7 (Flatten)          (None, 784)               0         \n",
      "_________________________________________________________________\n",
      "batch_normalization_6 (Batch (None, 784)               3136      \n",
      "_________________________________________________________________\n",
      "dense_20 (Dense)             (None, 128)               100480    \n",
      "_________________________________________________________________\n",
      "batch_normalization_7 (Batch (None, 128)               512       \n",
      "_________________________________________________________________\n",
      "dropout (Dropout)            (None, 128)               0         \n",
      "_________________________________________________________________\n",
      "dense_21 (Dense)             (None, 10)                1290      \n",
      "=================================================================\n",
      "Total params: 105,418\n",
      "Trainable params: 103,594\n",
      "Non-trainable params: 1,824\n",
      "_________________________________________________________________\n"
     ]
    }
   ],
   "source": [
    "model = keras.Sequential([\n",
    "            keras.layers.Flatten(input_shape=(28, 28)),\n",
    "            keras.layers.BatchNormalization(),\n",
    "            keras.layers.Dense(128, activation='relu'),\n",
    "            keras.layers.BatchNormalization(), \n",
    "            keras.layers.Dropout(0.2),   ### 0.2 of input units to drop\n",
    "            keras.layers.Dense(10)\n",
    "        ])\n",
    "\n",
    "model.summary()"
   ]
  }
 ],
 "metadata": {
  "kernelspec": {
   "display_name": "Python 3",
   "language": "python",
   "name": "python3"
  },
  "language_info": {
   "codemirror_mode": {
    "name": "ipython",
    "version": 3
   },
   "file_extension": ".py",
   "mimetype": "text/x-python",
   "name": "python",
   "nbconvert_exporter": "python",
   "pygments_lexer": "ipython3",
   "version": "3.7.4"
  }
 },
 "nbformat": 4,
 "nbformat_minor": 2
}
