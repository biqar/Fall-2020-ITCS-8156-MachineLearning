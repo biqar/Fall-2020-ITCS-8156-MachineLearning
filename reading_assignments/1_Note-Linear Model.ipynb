{
 "cells": [
  {
   "cell_type": "markdown",
   "metadata": {},
   "source": [
    "\n",
    "$\\newcommand{\\xv}{\\mathbf{x}}\n",
    " \\newcommand{\\tv}{\\mathbf{t}}\n",
    " \\newcommand{\\wv}{\\mathbf{w}}\n",
    " \\newcommand{\\Chi}{\\mathcal{X}}\n",
    " \\newcommand{\\R}{\\rm I\\!R}\n",
    " \\newcommand{\\sign}{\\text{sign}}\n",
    " \\newcommand{\\Tm}{\\mathbf{T}}\n",
    " \\newcommand{\\Xm}{\\mathbf{X}}\n",
    " \\newcommand{\\Im}{\\mathbf{I}}\n",
    "$\n",
    "### ITCS6155"
   ]
  },
  {
   "cell_type": "markdown",
   "metadata": {
    "collapsed": true
   },
   "source": [
    "# Linear Model\n",
    "\n",
    "\n",
    "**Supervised Learning**: \n",
    "\n",
    "$$ f: \\mathcal{X} \\rightarrow y $$\n",
    "\n",
    "\n",
    "Supervised learning can be formulated as above. When we want to predict tomorrow's temparature, for instance, we might look for the data that we can use as an input $\\mathcal{X}$ such as humidity, history of temparature changes, air pressure, and vapor pressure along with the output (today's temparature) $y$. Once we recorded or found the data, we can build a table as follows. \n",
    "\n",
    "humidity (%) | last year temparature (&ordm;F) | yesterday's air pressure (inHG) | vapor pressure (inHG) | **Today's Temp** (&ordm;F)\n",
    "---|---|---|---|---\n",
    "23 | 72 | 30.12 | 0.79 | 76\n",
    "15 | 82 | 29.32 | 0.68 | 81\n",
    " | | ... | |\n",
    "\n",
    "\n",
    "Here, we note that the output is *today's* not *tomorrow's* temparature. \n",
    "As we discussed in the first lecture, machine learning model *learns* from data or experiences. \n",
    "This learning is called as *\"training\"* and the data used for training is called *training samples*. \n",
    "In this example, the table is training samples that we will feed in to our models. \n",
    "To maintain the right relation between input data and output prediction, however, the humidity and pressure values from yesterday are paired with the output, today's temparature. \n",
    "\n",
    "Once you have data to play with, now you can apply learning algorithms ($f$) to find parameters. \n",
    "This model with the learned parameters is *hypothesis*, and will be your model for prediction.\n",
    "From today's measurements, applying the hypothesis model can simply generate the prediction output. \n",
    "When the training is successful, it is more likely to have a good estimation. \n"
   ]
  },
  {
   "cell_type": "markdown",
   "metadata": {},
   "source": [
    "## Linear Model\n",
    "\n",
    "Linear model can be defined as a Euclidean dot product between two vectors: \n",
    "\n",
    "$$\n",
    "\\begin{align}\n",
    "  f(\\xv; \\wv) &= \\wv^\\top \\xv = \\sum_0^D w_i x_i \\\\\n",
    "     &= w_0 x_0 + w_1 x_1 + \\cdots + w_D x_D\n",
    "\\end{align}\n",
    "$$\n",
    "\n",
    "where $\\wv$ is a weight vector and $\\xv$ is an input vector. \n",
    "When it is a one dimensional vector, it represents a straight line, so it is called *linear*. \n",
    "\n",
    "Assume that we have $N$ data observations, $\\xv_i$ and target outputs, $t_i$, for $i = 1, \\cdots, N$.\n",
    "The simpliest model that we can think of is constant model, $f(\\xv) = c$, where $c$ is any scalar. \n",
    "In this case, we have the zero weights in the linear model. \n",
    "\n",
    "The linearity in the parameter $\\xv$ make the optimization based on deravatives to solvable analytically. \n",
    "The model limits the complexity so its representation is also limited. However, it can prevent possible overfitting with the simple modeling, especially when you have sparsely sampled data.\n",
    "\n",
    "\n",
    "### Dot Product\n",
    "\n",
    "The dot product, also known as inner product or scalar product, computes the product of pair of elements in each vector and the summation of the products. It is geometrically interpreted as a cosine between two vectors as well.\n",
    "Thus, it can be written as\n",
    "\n",
    "\n",
    "$$\n",
    "    \\wv^\\top \\xv = \\| \\wv \\| \\| \\xv \\| \\cos(\\theta),\n",
    "$$\n",
    "\n",
    "where $\\theta$ is the angle between two vectors. \n",
    "Thus, when the vectors are unit vectors, the dot product is simply consine of the angle between two vectors. \n",
    "\n",
    "![](https://upload.wikimedia.org/wikipedia/commons/3/3e/Dot_Product.svg)\n",
    "<center>(from wikipedia)</center>\n",
    "\n",
    "\n",
    "### Regression\n",
    "\n",
    "The target output $t$ is s real number ($y, t \\in \\R$) as we discussed in last lecture. Thus, training $f(\\xv; \\wv)$ generates $y$ values close to the target outputs. We will discuss more about linear regression in next section.\n",
    "\n",
    "\n",
    "### Classification\n",
    "\n",
    "Classification has target outputs as discrete values. In case of binary classification, you have two values as target (ie. $t \\in \\{ -1, 1 \\}$). As we know that $y$ can be any real value, we can cap the model to generate discrete values as below:\n",
    "\n",
    "\n",
    "$$ y = \\sign ( f(\\xv; \\wv) ).$$\n",
    "\n",
    "\n",
    "### Advantages of Linear Model\n",
    "\n",
    "- Simple\n",
    "- Stable\n",
    "- Avoid Overfitting\n",
    "- Scalable\n",
    "\n"
   ]
  },
  {
   "cell_type": "markdown",
   "metadata": {},
   "source": [
    "# Practice\n",
    "**Finish this excercise and submit on Canvas.**\n",
    "\n",
    "Q: Write a python code that create two vectors, $\\wv$ and $\\xv$ as follows: \n",
    "\n",
    "$\n",
    "\\xv = \\begin{bmatrix}\n",
    "         4.0 \\\\\n",
    "         2.3 \\\\\n",
    "         1.2 \\\\\n",
    "         5.8\n",
    "        \\end{bmatrix},  \n",
    "\\wv = \\begin{bmatrix}\n",
    "         0.8 \\\\\n",
    "         0.1 \\\\\n",
    "         0.53 \\\\\n",
    "         0.33\n",
    "        \\end{bmatrix}\n",
    "$"
   ]
  },
  {
   "cell_type": "code",
   "execution_count": 1,
   "metadata": {},
   "outputs": [],
   "source": [
    "import numpy as np\n",
    "\n",
    "x = np.array([4.0, 2.3, 1.2, 5.8])\n",
    "w = np.array([0.8, 0.1, 0.53, 0.33])"
   ]
  },
  {
   "cell_type": "markdown",
   "metadata": {},
   "source": [
    "Q: Write a function *linear_model(x, w)* that returns the result of dot product."
   ]
  },
  {
   "cell_type": "code",
   "execution_count": 2,
   "metadata": {},
   "outputs": [],
   "source": [
    "def linear_model(x, w):\n",
    "    return np.dot(x, w)"
   ]
  },
  {
   "cell_type": "markdown",
   "metadata": {},
   "source": [
    "Q: Pass the $\\wv$ and $\\xv$ and print the output of the linear model."
   ]
  },
  {
   "cell_type": "code",
   "execution_count": 3,
   "metadata": {},
   "outputs": [
    {
     "data": {
      "text/plain": [
       "5.9799999999999995"
      ]
     },
     "execution_count": 3,
     "metadata": {},
     "output_type": "execute_result"
    }
   ],
   "source": [
    "dot_val = linear_model(x, w)\n",
    "\n",
    "dot_val"
   ]
  },
  {
   "cell_type": "markdown",
   "metadata": {},
   "source": [
    "# Linear Regression\n",
    "\n",
    "In this note, we solve regression problems using the linear model as follows. \n",
    "For instance, we have example data as follows. \n",
    "The goal we want to acheive in this problem is to find a best fit on all the data.\n"
   ]
  },
  {
   "cell_type": "code",
   "execution_count": 5,
   "metadata": {},
   "outputs": [],
   "source": [
    "import numpy as np\n",
    "import matplotlib.pyplot as plt\n",
    "%matplotlib inline "
   ]
  },
  {
   "cell_type": "code",
   "execution_count": 6,
   "metadata": {},
   "outputs": [],
   "source": [
    "X = np.linspace(0,10, 101)\n",
    "T = 2 * X  + 4+ np.random.rand(101) * 5"
   ]
  },
  {
   "cell_type": "code",
   "execution_count": 7,
   "metadata": {},
   "outputs": [],
   "source": [
    "def data_scatter(k=101):\n",
    "    plt.plot(T[:k], '.')\n",
    "    plt.xticks(range(0, 101, 20)[:k], range(0, 11, 2)[:k])"
   ]
  },
  {
   "cell_type": "code",
   "execution_count": 8,
   "metadata": {},
   "outputs": [
    {
     "data": {
      "image/png": "[encoded data removed]",
      "text/plain": [
       "<Figure size 432x288 with 1 Axes>"
      ]
     },
     "metadata": {
      "needs_background": "light"
     },
     "output_type": "display_data"
    }
   ],
   "source": [
    "data_scatter()"
   ]
  },
  {
   "cell_type": "markdown",
   "metadata": {},
   "source": [
    "\n",
    "When we use a linear model, there can be multiple options. One of them, or the simplest solution, can be the avergage value. "
   ]
  },
  {
   "cell_type": "code",
   "execution_count": 22,
   "metadata": {},
   "outputs": [
    {
     "name": "stdout",
     "output_type": "stream",
     "text": [
      "16.742600177669612\n"
     ]
    },
    {
     "data": {
      "image/png": "[encoded data removed]",
      "text/plain": [
       "<Figure size 432x288 with 1 Axes>"
      ]
     },
     "metadata": {
      "needs_background": "light"
     },
     "output_type": "display_data"
    }
   ],
   "source": [
    "mean = np.mean(T)\n",
    "\n",
    "data_scatter()\n",
    "plt.plot([0, 100],[mean, mean], 'r-')\n",
    "print(mean)"
   ]
  },
  {
   "cell_type": "markdown",
   "metadata": {},
   "source": [
    "When the data is linear or when we need simple solution, the linear model can suggest better solutions. \n",
    "For instance, one dimensional affine model can be written as\n",
    "\n",
    "$$\n",
    "f(x; a, b) = a x + b.\n",
    "$$\n",
    "\n",
    "Unifying the weight symbol with $w$,\n",
    "$$\n",
    "f(x; \\wv) =  w_1 x + w_0.\n",
    "$$\n",
    "\n",
    "Considering multiple inputs for $x$, we can extend the input $x$ to input vector $\\xv$ with dummy input $x_0 = 1$:\n",
    "\n",
    "$$\n",
    "\\begin{align}\n",
    "f(\\xv; \\wv) &=  w_D x_D + \\cdots + w_1 x_1 + w_0 \\\\\n",
    "            &= \\sum_{i=0}^{D} w_i x_i \\quad\\text{where } x_0 = 1\\\\\n",
    "            &= \\wv^\\top \\xv.\n",
    "\\end{align}\n",
    "$$\n",
    "\n",
    "\n",
    "#### Error (Cost) Function\n",
    "\n",
    "When we define $\\wv \\in \\R^D$, the choice of $D$ real numbers can result in the best result. \n",
    "Here, the word \"*best*\" can be vague. Thus, we need to define what *best* means. \n",
    "The sum of square error function defines as follows:\n",
    "\n",
    "$$\n",
    "E(\\wv) = \\sum_{i=1}^N \\Big( f(\\xv_i; \\wv_i) - t_i \\Big)^2\n",
    "$$\n",
    "\n",
    "This error function says that we want to minimize the sum of Euclidean distances between the target values and the model outputs. Here the square term leads the distances are not biased a few samples since sacrificing others with large errors will disturb the objective. \n",
    "\n",
    "\n",
    "## Least Squares\n",
    "\n",
    "The parameter that gives best fit will be\n",
    "\n",
    "$$\n",
    "\\wv^* = \\arg\\min_\\wv \\sum_{i=1}^{N} \\Big( f(\\xv_i; \\wv) - t_i \\Big)^2\n",
    "$$\n",
    "\n",
    "Since the error funciton is quadratic, the problem can be analytically solved by simply setting derivative with respect to $\\wv$ to zero. \n",
    "For this, let us prepare data in matrix. \n",
    "The target values are collected in matrix $\\tv$, and the input samples are in matrix $\\Xm$.\n",
    "\n",
    "$$\n",
    "\\begin{align}\n",
    "\\tv &= [t_1, t_2, \\cdots, t_N]^\\top \\\\ \n",
    "\\\\\n",
    "\\wv &= [w_0, w_1, \\cdots, w_D]^\\top \\\\\n",
    "\\\\\n",
    "\\Xm &= \\begin{bmatrix}\n",
    "    x_{10} & x_{11} & x_{12} & \\dots  & x_{1D} \\\\\n",
    "    x_{20} & x_{21} & x_{22} & \\dots  & x_{2D} \\\\\n",
    "    \\vdots & \\vdots & \\vdots & \\ddots & \\vdots \\\\\n",
    "    x_{N0} & x_{N1} & x_{N2} & \\dots  & x_{ND}\n",
    "\\end{bmatrix}\n",
    "\\end{align}\n",
    "$$\n",
    "where the first column is one's, $\\xv_{*0} = [1, 1, \\dots, 1]^\\top$.\n",
    "\n",
    "With this matrix, $f(\\xv; \\wv)$ can be written in matrix form as:\n",
    "$$\n",
    "f(\\xv; \\wv) = \\Xm \\wv.\n",
    "$$\n",
    "Thus, the error function can be\n",
    "$$\n",
    "\\begin{align}\n",
    "E(\\wv) &= \\sum_{i=1}^N \\Big(f(\\xv_i; \\wv_i) - t_i \\Big)^2 \\\\\n",
    "            \\\\\n",
    "            &= (\\Xm \\wv - \\tv)^\\top (\\Xm \\wv - \\tv) \\\\ \n",
    "            \\\\\n",
    "            &= \\wv^\\top \\Xm^\\top \\Xm \\wv - 2 \\tv^\\top \\Xm \\wv + \\tv^\\top \\tv \n",
    "\\end{align}\n",
    "$$\n",
    "because $\\tv^\\top \\Xm \\wv$ is a scalar, so symmetric. \n",
    "\n",
    "Now, let us do the derivative. \n",
    "$$\n",
    "\\begin{align}\n",
    "\\frac{\\partial E(\\wv)}{\\partial \\wv} &= \\frac{\\partial (\\Xm \\wv - \\tv)^\\top (\\Xm \\wv - \\tv)}{\\partial \\wv} \\\\\n",
    "        \\\\\n",
    "        &= \\frac{\\partial (\\wv^\\top \\Xm^\\top \\Xm \\wv - 2 \\tv^\\top \\Xm \\wv + \\tv^\\top \\tv )}{\\partial \\wv} \\\\\n",
    "        \\\\\n",
    "        &= \\frac{\\partial (\\wv^\\top \\Xm^\\top \\Xm \\wv)}{\\partial \\wv} - 2 \\Xm^\\top \\tv \\\\\n",
    "        \\\\\n",
    "        &= \\Xm^\\top \\Xm \\wv + (\\Xm^\\top \\Xm)^\\top \\wv - 2 \\Xm^\\top \\tv  \\\\\n",
    "        \\\\\n",
    "        &= 2 \\Xm^\\top \\Xm \\wv - 2 \\Xm^\\top \\tv \n",
    "\\end{align}\n",
    "$$\n",
    "\n",
    "Setting this to zero, \n",
    "$$\n",
    "\\begin{align}\n",
    " 2 \\Xm^\\top \\Xm \\wv - 2 \\Xm^\\top \\tv  &= 0\\\\\n",
    "\\\\\n",
    "\\Xm^\\top \\Xm \\wv &= \\Xm^\\top \\tv\\\\\n",
    "\\\\\n",
    "\\wv &= \\big(\\Xm^\\top \\Xm\\big)^{-1} \\Xm^\\top \\tv\n",
    "\\end{align}\n",
    "$$\n",
    "\n"
   ]
  },
  {
   "cell_type": "markdown",
   "metadata": {},
   "source": [
    "# Practice\n",
    "\n",
    "Implement the least squares model and apply to the simulated data X and T. \n",
    "Consider using **np.linalg.inv** (to inverse a matrix), **np.linalg.solve** (to solve system of linear scalar equations), **np.linalg.lstsq** (least-squares solution to a linear matrix equation).\n",
    "After getting the parameter w, plot the approximation line. "
   ]
  },
  {
   "cell_type": "code",
   "execution_count": 10,
   "metadata": {},
   "outputs": [
    {
     "name": "stdout",
     "output_type": "stream",
     "text": [
      "[6.44338295 2.05984345]\n"
     ]
    }
   ],
   "source": [
    "import numpy as np \n",
    "\n",
    "# First creast X1 by adding 1's column to X\n",
    "N = X.shape[0]\n",
    "X1 = np.c_[np.ones((N, 1)), X]\n",
    "\n",
    "# the following line is also valid to insert a column containing 1s\n",
    "#X1 = np.hstack((np.ones((N, 1)), X.reshape((X.shape[0], -1))))\n",
    "\n",
    "# print(X1)\n",
    "# print(X1.transpose())\n",
    "\n",
    "# Next, using inverse, solve, lstsq function to get w*\n",
    "w = np.linalg.inv(X1.transpose().dot(X1)).dot(X1.transpose()).dot(T)\n",
    "\n",
    "print(w)"
   ]
  },
  {
   "cell_type": "code",
   "execution_count": 13,
   "metadata": {},
   "outputs": [
    {
     "data": {
      "text/plain": [
       "[<matplotlib.lines.Line2D at 0x11acd1a10>]"
      ]
     },
     "execution_count": 13,
     "metadata": {},
     "output_type": "execute_result"
    },
    {
     "data": {
      "image/png": "[encoded data removed]",
      "text/plain": [
       "<Figure size 432x288 with 1 Axes>"
      ]
     },
     "metadata": {
      "needs_background": "light"
     },
     "output_type": "display_data"
    }
   ],
   "source": [
    "# plot the linear line (w)\n",
    "\n",
    "y = X1.dot(w)\n",
    "\n",
    "data_scatter()\n",
    "plt.plot(y)"
   ]
  },
  {
   "cell_type": "markdown",
   "metadata": {},
   "source": [
    "## Least Mean Squares (LMS)\n",
    "\n",
    "Previously we observed that the least squares use all the available data for training or finding the best fit. \n",
    "This can be often computationally costly, especially with large data sets. When data is sufficiently large, we can consider *sequential* or *online* learning.\n",
    "During the online learning process, we introduce a data point one by one, and update the parameters. Using the updated parameters, it makes a new estimation and repeat these steps. \n",
    "\n",
    "For this, we start with an initial guess $\\wv$ and changes it as it reads more data until it converges. \n",
    "When $k$ represents the steps for the repetition,\n",
    "\n",
    "$$\n",
    "\\wv^{(k+1)} = \\wv^{(k)} - \\alpha \\nabla E_k \n",
    "$$\n",
    "\n",
    "where $E_k$ is the error for the $k$'th sample and $\\alpha$ is a learning rate. \n",
    "This is called *stochastic gradient descent* or *sequential gradient descent*. \n",
    "\n",
    "For the $k$'th sample $\\xv_k$, the gradient for the sum-of-squares error is\n",
    "\n",
    "$$\n",
    "\\begin{align}\n",
    "\\nabla E_k = \\frac{\\partial E}{\\partial \\wv^{(k)}} &= \\frac{\\partial }{\\partial \\wv^{(k)}}\\Big( f(\\xv_k; \\wv^{(k)}) - t_k \\Big)^2 \\\\\n",
    "        &= 2 \\Big( f(\\xv_k; \\wv^{(k)}) - t_k \\Big) \\frac{\\partial }{\\partial \\wv^{(k)}} \\Big( f(\\xv_k; \\wv^{(k)}) - t_k \\Big) \\\\\n",
    "        &= 2 \\Big( {\\wv^{(k)}}^\\top \\xv_k - t_k \\Big) \\frac{\\partial }{\\partial \\wv^{(k)}} \\Big( {\\wv^{(k)}}^\\top \\xv_k - t_k \\Big) \\\\\n",
    "        &= 2\\Big( {\\wv^{(k)}}^\\top \\xv_k - t_k \\Big) \\xv_k.\n",
    "\\end{align}\n",
    "$$\n",
    "This gives the following update rule for each sample:\n",
    "\n",
    "$$\n",
    "\\wv^{(k+1)} = \\wv^{(k)} - \\alpha \\Big( {\\wv^{(k)}}^\\top \\xv_k - t_k \\Big) \\xv_k.\n",
    "$$"
   ]
  },
  {
   "cell_type": "markdown",
   "metadata": {},
   "source": [
    "# Pratice\n",
    "\n",
    "Implement the LMS for the simulated sample X, and show the plot"
   ]
  },
  {
   "cell_type": "code",
   "execution_count": 21,
   "metadata": {},
   "outputs": [
    {
     "name": "stdout",
     "output_type": "stream",
     "text": [
      "(101, 2)\n",
      "(2,)\n",
      "(2,)\n"
     ]
    }
   ],
   "source": [
    "print(X1.shape)\n",
    "print(w.shape)\n",
    "print(w.transpose().shape)"
   ]
  },
  {
   "cell_type": "code",
   "execution_count": 22,
   "metadata": {},
   "outputs": [
    {
     "data": {
      "image/png": "[encoded data removed]",
      "text/plain": [
       "<Figure size 432x288 with 1 Axes>"
      ]
     },
     "metadata": {
      "needs_background": "light"
     },
     "output_type": "display_data"
    }
   ],
   "source": [
    "import IPython.display as ipd  # for display and clear_output\n",
    "\n",
    "# initial weights with random values\n",
    "w = np.random.rand(X1.shape[1])\n",
    "\n",
    "# learning rate\n",
    "alpha = 0.01\n",
    "\n",
    "fig = plt.figure()\n",
    "\n",
    "# sequential learning\n",
    "for k in range(N):\n",
    "    # online update of weights\n",
    "    w = w - (alpha * ((X1[k:k+1, 0:2].dot(w.transpose()) - T[k:k+1]).dot(X1[k:k+1, 0:2])))\n",
    "    \n",
    "    plt.clf()\n",
    "    data_scatter(k+1)\n",
    "    \n",
    "    # Plot the current model's estimation in a line\n",
    "    tmpY = X1 @ w\n",
    "    plt.plot(tmpY)\n",
    "    plt.ylim([0,30])\n",
    "    \n",
    "    ipd.clear_output(wait=True)\n",
    "    ipd.display(fig)\n",
    "ipd.clear_output(wait=True)"
   ]
  }
 ],
 "metadata": {
  "kernelspec": {
   "display_name": "Python 3",
   "language": "python",
   "name": "python3"
  },
  "language_info": {
   "codemirror_mode": {
    "name": "ipython",
    "version": 3
   },
   "file_extension": ".py",
   "mimetype": "text/x-python",
   "name": "python",
   "nbconvert_exporter": "python",
   "pygments_lexer": "ipython3",
   "version": "3.7.6"
  }
 },
 "nbformat": 4,
 "nbformat_minor": 2
}
