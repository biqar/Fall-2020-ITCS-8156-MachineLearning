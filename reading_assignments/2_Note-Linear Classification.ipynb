{
 "cells": [
  {
   "cell_type": "markdown",
   "metadata": {},
   "source": [
    "$\\newcommand{\\xv}{\\mathbf{x}}\n",
    " \\newcommand{\\wv}{\\mathbf{w}}\n",
    " \\newcommand{\\Chi}{\\mathcal{X}}\n",
    " \\newcommand{\\R}{\\rm I\\!R}\n",
    " \\newcommand{\\sign}{\\text{sign}}\n",
    " \\newcommand{\\Tm}{\\mathbf{T}}\n",
    " \\newcommand{\\Xm}{\\mathbf{X}}\n",
    " \\newcommand{\\Im}{\\mathbf{I}}\n",
    "  \\newcommand{\\Ym}{\\mathbf{Y}}\n",
    "$\n",
    "### ITCS6156\n",
    "\n",
    "# Linear Model for Classification\n",
    "\n",
    "The linear model \n",
    "\n",
    "$$ \\Ym = \\Xm \\wv $$\n",
    "\n",
    "can be used for classification. \n",
    "\n",
    "For this, simply we can discretize the output $\\Ym$ for prediction. \n",
    "Here the error function can be written \n",
    "\n",
    "$$\n",
    "E = \\frac{1}{N} \\sum_{i=1}^{N} \\mathbb{1} \\Big[ \\sign(\\wv^\\top \\xv_i) \\ne t_i \\Big] \n",
    "$$\n",
    "\n",
    "This error function contains discrete functions such as $\\sign$ and the indicator delta function. \n",
    "Thus, the error function is not derivable, so we need a new approach to solve it. "
   ]
  },
  {
   "cell_type": "markdown",
   "metadata": {},
   "source": [
    "## The Perceptron Algorithm\n",
    "\n",
    "Let us consider a simple binary classifcation as our target problem. \n",
    "A single perceptron is a **linear model** that applies a step function on the linear output. \n",
    "For classification, it iterate over the training examples, and update the weights in a way that would result in correct classification. \n",
    "\n",
    "Let us consider the case of misclassification. \n",
    "For **positive class** example, $\\xv_i$, \n",
    "\n",
    "$$\n",
    "y_i = \\wv^{(k)} \\xv_i < 0.\n",
    "$$\n",
    "\n",
    "To fix this classification error, we want to update the weight $\\wv^{(k)}$ to increase the output $y_i$.\n",
    "Thus, we expect\n",
    "\n",
    "$$\n",
    " \\wv^{(k+1)} \\xv_i >  \\wv^{(k)} \\xv_i.\n",
    "$$\n",
    "\n",
    "This can be reached by using $\\xv_i$ as a gradient as follows: \n",
    "\n",
    "$$\n",
    "\\wv^{(k+1)} = \\wv^{(k)} + \\alpha \\xv_i\n",
    "$$\n",
    "\n",
    "where $\\alpha$ is the **learning rate**. \n",
    "\n",
    "When the sample $t_i$ is **negative**, we need to do the opposite\n",
    "\n",
    "$$\n",
    " \\wv^{(k+1)} \\xv_i <  \\wv^{(k)} \\xv_i.\n",
    "$$\n",
    "\n",
    "To combine both positive and negative cases, we can use the target sample $t_i$ in our update, \n",
    "\n",
    "$$\n",
    "\\wv^{(k+1)} = \\wv^{(k)} + \\alpha t_i \\xv_i\n",
    "$$\n",
    "\n",
    "\n",
    "When the data is not linearly separable, there is **no guarantee on convergence**. Thus, for training, we need to set the **maximum number of iteration**. Also, the algorithm selects an arbitrary **hyperplane** that divides two classes, so it is possible to discover a decision boundary that is not the best. "
   ]
  },
  {
   "cell_type": "code",
   "execution_count": 28,
   "metadata": {},
   "outputs": [],
   "source": [
    "import numpy as np\n",
    "import matplotlib.pyplot as plt\n",
    "%matplotlib inline"
   ]
  },
  {
   "cell_type": "code",
   "execution_count": 30,
   "metadata": {
    "scrolled": true
   },
   "outputs": [
    {
     "data": {
      "image/png": "[encoded data removed]",
      "text/plain": [
       "<Figure size 432x288 with 1 Axes>"
      ]
     },
     "metadata": {
      "needs_background": "light"
     },
     "output_type": "display_data"
    }
   ],
   "source": [
    "# Example data\n",
    "mu1 = [-1, -1]\n",
    "cov1 = np.eye(2)\n",
    "\n",
    "mu2 = [2,3]\n",
    "cov2 = np.eye(2) * 3\n",
    "\n",
    "C1 = np.random.multivariate_normal(mu1, cov1, 50)\n",
    "C2 = np.random.multivariate_normal(mu2, cov2, 50)\n",
    "\n",
    "plt.plot(C1[:, 0], C1[:, 1], 'or')\n",
    "plt.plot(C2[:, 0], C2[:, 1], 'xb')\n",
    "\n",
    "plt.xlim([-3, 6])\n",
    "plt.ylim([-3, 7])\n",
    "\n",
    "X = np.vstack((C1, C2))\n",
    "N = X.shape[0]\n",
    "X1 = np.hstack((np.ones((N, 1)), X.reshape((X.shape[0], -1))))\n",
    "\n",
    "T = np.ones(N)\n",
    "T[:50] *= -1 "
   ]
  },
  {
   "cell_type": "code",
   "execution_count": 31,
   "metadata": {},
   "outputs": [
    {
     "name": "stdout",
     "output_type": "stream",
     "text": [
      "End of training:  999\n"
     ]
    },
    {
     "data": {
      "text/plain": [
       "[<matplotlib.lines.Line2D at 0x11bfc1050>]"
      ]
     },
     "execution_count": 31,
     "metadata": {},
     "output_type": "execute_result"
    },
    {
     "data": {
      "image/png": "[encoded data removed]",
      "text/plain": [
       "<Figure size 432x288 with 1 Axes>"
      ]
     },
     "metadata": {
      "needs_background": "light"
     },
     "output_type": "display_data"
    }
   ],
   "source": [
    "#### perceptron learning\n",
    "\n",
    "maxiter = 1000\n",
    "alpha = 0.1\n",
    "\n",
    "w = np.zeros(3) \n",
    "\n",
    "plt.plot(T)\n",
    "\n",
    "# perceptron algorithm\n",
    "for i in range(maxiter):\n",
    "    converged = True\n",
    "    for k in range(N):\n",
    "        for x, t in zip(X1, T):\n",
    "            y = np.dot(w, x)\n",
    "            yt = 1.0 if (y > 0) else -1.0\n",
    "            \n",
    "            if y != yt:\n",
    "                converged = False\n",
    "                delta = t - yt\n",
    "                w += (alpha * delta * x)\n",
    "    \n",
    "    if converged:\n",
    "        print(\"converged at \", i)\n",
    "        break\n",
    "\n",
    "print(\"End of training: \", i)\n",
    "plt.plot(X1@w)\n"
   ]
  },
  {
   "cell_type": "code",
   "execution_count": 32,
   "metadata": {},
   "outputs": [
    {
     "data": {
      "text/plain": [
       "(-3, 7)"
      ]
     },
     "execution_count": 32,
     "metadata": {},
     "output_type": "execute_result"
    },
    {
     "data": {
      "image/png": "[encoded data removed]",
      "text/plain": [
       "<Figure size 432x288 with 1 Axes>"
      ]
     },
     "metadata": {
      "needs_background": "light"
     },
     "output_type": "display_data"
    }
   ],
   "source": [
    "# show decision boundary \n",
    "plt.plot(C1[:, 0], C1[:, 1], 'or')\n",
    "plt.plot(C2[:, 0], C2[:, 1], 'xb')\n",
    "\n",
    "\n",
    "xt = np.array([-3, 5])\n",
    "yt = -w[1] * xt / w[2] - w[0] / w[2]\n",
    "\n",
    "plt.plot(xt, yt)\n",
    "plt.xlim([-3, 6])\n",
    "plt.ylim([-3, 7])"
   ]
  },
  {
   "cell_type": "markdown",
   "metadata": {},
   "source": [
    "# Pocket Algorithm for Training Perceptron\n",
    "\n",
    "To overcome the unstability of the previous algorithm, the pocket algorithm keeps the best solution so far *in its pocket*. Thus, $\\wv_{pocket}$ will contain the best solution so far.  "
   ]
  },
  {
   "cell_type": "code",
   "execution_count": 35,
   "metadata": {},
   "outputs": [
    {
     "name": "stdout",
     "output_type": "stream",
     "text": [
      "pocket update at:  0\n",
      "End of training:  9999\n"
     ]
    },
    {
     "data": {
      "text/plain": [
       "[<matplotlib.lines.Line2D at 0x11c22b110>]"
      ]
     },
     "execution_count": 35,
     "metadata": {},
     "output_type": "execute_result"
    },
    {
     "data": {
      "image/png": "[encoded data removed]",
      "text/plain": [
       "<Figure size 432x288 with 1 Axes>"
      ]
     },
     "metadata": {
      "needs_background": "light"
     },
     "output_type": "display_data"
    }
   ],
   "source": [
    "from copy import deepcopy as copy \n",
    "\n",
    "\n",
    "maxiter = 10000\n",
    "alpha = 0.1\n",
    "\n",
    "\n",
    "# return 1 if w is better -1 if wp is better\n",
    "def compare(X, T, w, wp):\n",
    "    y = np.sign(X @ w)\n",
    "    yp = np.sign(X @ wp)\n",
    "\n",
    "    return 1 if np.sum(y == T) >= np.sum(yp == T) else -1\n",
    "    \n",
    "    \n",
    "\n",
    "w = np.zeros(3)\n",
    "w_pocket = copy(w)\n",
    "missed_pocket = N + 1\n",
    "\n",
    "plt.plot(T)\n",
    "\n",
    "# pocket algorithm\n",
    "for i in range(maxiter):\n",
    "    converged = True\n",
    "    for k in range(N):\n",
    "        missed = 0\n",
    "        for x, t in zip(X1, T):\n",
    "            y = np.dot(w, x)\n",
    "            yt = 1.0 if (y > 0) else -1.0\n",
    "            \n",
    "            if y != yt:\n",
    "                missed += 1\n",
    "                converged = False\n",
    "                delta = t - yt\n",
    "                w += (alpha * delta * x)\n",
    "    #print(missed)\n",
    "    if missed < missed_pocket:\n",
    "        print(\"pocket update at: \", i)\n",
    "        w_pocket = w\n",
    "        missed_pocket = missed\n",
    "    \n",
    "    if converged:\n",
    "        print(\"converged at \", i)\n",
    "        break\n",
    "\n",
    "print(\"End of training: \", i)\n",
    "plt.plot(X1@w_pocket)"
   ]
  },
  {
   "cell_type": "code",
   "execution_count": 36,
   "metadata": {},
   "outputs": [
    {
     "data": {
      "text/plain": [
       "(-3, 7)"
      ]
     },
     "execution_count": 36,
     "metadata": {},
     "output_type": "execute_result"
    },
    {
     "data": {
      "image/png": "[encoded data removed]",
      "text/plain": [
       "<Figure size 432x288 with 1 Axes>"
      ]
     },
     "metadata": {
      "needs_background": "light"
     },
     "output_type": "display_data"
    }
   ],
   "source": [
    "# show decision boundary \n",
    "plt.plot(C1[:, 0], C1[:, 1], 'or')\n",
    "plt.plot(C2[:, 0], C2[:, 1], 'xb')\n",
    "\n",
    "\n",
    "xt = np.array([-3, 5])\n",
    "yt = -w_pocket[1] * xt / w_pocket[2] - w_pocket[0] / w_pocket[2]\n",
    "\n",
    "plt.plot(xt, yt)\n",
    "plt.xlim([-3, 6])\n",
    "plt.ylim([-3, 7])"
   ]
  },
  {
   "cell_type": "markdown",
   "metadata": {},
   "source": [
    "# Ordinary Least Squares for Classification\n",
    "\n"
   ]
  },
  {
   "cell_type": "markdown",
   "metadata": {},
   "source": [
    "Can we use the ordinary least squares for regression on classificaiton problem? \n",
    "\n",
    "Remember your answer in your mind. Let us answer to this question in class. \n",
    "\n",
    "Until then, assuming that it is possible, try it here and plot it.\n",
    "Does the results here have the same answer? "
   ]
  },
  {
   "cell_type": "code",
   "execution_count": 37,
   "metadata": {},
   "outputs": [
    {
     "data": {
      "text/plain": [
       "[<matplotlib.lines.Line2D at 0x11bf61c90>]"
      ]
     },
     "execution_count": 37,
     "metadata": {},
     "output_type": "execute_result"
    },
    {
     "data": {
      "image/png": "[encoded data removed]",
      "text/plain": [
       "<Figure size 432x288 with 1 Axes>"
      ]
     },
     "metadata": {
      "needs_background": "light"
     },
     "output_type": "display_data"
    }
   ],
   "source": [
    "# linear regression for the classifcation\n",
    "\n",
    "# X1 already contains X and one's column for bias\n",
    "w_ls = np.linalg.inv(X1.transpose().dot(X1)).dot(X1.transpose()).dot(T)\n",
    "\n",
    "Y =  X1.dot(w_ls)\n",
    "\n",
    "# plot\n",
    "plt.plot(T)\n",
    "plt.plot(Y)"
   ]
  },
  {
   "cell_type": "code",
   "execution_count": 38,
   "metadata": {},
   "outputs": [
    {
     "data": {
      "text/plain": [
       "(-3, 7)"
      ]
     },
     "execution_count": 38,
     "metadata": {},
     "output_type": "execute_result"
    },
    {
     "data": {
      "image/png": "[encoded data removed]",
      "text/plain": [
       "<Figure size 432x288 with 1 Axes>"
      ]
     },
     "metadata": {
      "needs_background": "light"
     },
     "output_type": "display_data"
    }
   ],
   "source": [
    "# plot results with decision boundary\n",
    "plt.plot(C1[:, 0], C1[:, 1], 'or')\n",
    "plt.plot(C2[:, 0], C2[:, 1], 'xb')\n",
    "\n",
    "\n",
    "xt = np.array([-2, 5])\n",
    "yt = -w_ls[1] * xt / w_ls[1] - w_ls[0] / w_ls[1]\n",
    "\n",
    "plt.plot(xt, yt)\n",
    "plt.xlim([-3, 6])\n",
    "plt.ylim([-3, 7])"
   ]
  },
  {
   "cell_type": "markdown",
   "metadata": {},
   "source": [
    "# Measurements\n",
    "\n",
    "How to evaluate a machine learning model is critical for the choice of right tools and performance. For various reason, there are several classification measurements to meet different needs for practical applications. \n",
    "In this section, we examine popular measures. \n",
    "\n",
    "One naive evaluation we can think of is the rate or percentage or correct classification. \n",
    "That is, when there are 1000 target lables to classify, if 950 are correctly classified, we can say 95% accuracy: \n",
    "\n",
    "$$\n",
    "   \\text{Accuracy} = \\frac{\\text{The number of correct classification}}{\\text{The number of samples}}.\n",
    "$$\n",
    "\n",
    "This measure, however, can be **uninformative**, especially when the importance of each class is different. \n",
    "As in our previous discussion about imbalance of data samples, sometimes we need to care more a specific class.\n",
    "For this, confusion matrix lists all the counts for all classes. \n",
    "\n",
    "## Confusion Matrix\n",
    "\n",
    "Here is an example confusion matrix. \n",
    "\n",
    "|   | - | + \n",
    "| --|--|--\n",
    "| - | 439 | 28\n",
    "| + | 22 | 511\n",
    " \n",
    " <center>Table 1. Example Confusion Matrix </center>\n",
    " \n",
    " Here, each row represents the predictions from model and column represents the actual classes.\n",
    " So, we can read this that for negative samples, 439 samples are correctly classified while 511 samples are correctly classified for positive data. Overall the accuracy is 95% but with confusion matrix we have more information about the classification results. \n",
    "\n",
    "Here follows the short implementation of confusion matrix.\n",
    "Read through the codes and let me know if you have a question in class. \n"
   ]
  },
  {
   "cell_type": "code",
   "execution_count": 39,
   "metadata": {},
   "outputs": [],
   "source": [
    "import numpy as np \n",
    "import pandas as pd"
   ]
  },
  {
   "cell_type": "code",
   "execution_count": 40,
   "metadata": {},
   "outputs": [],
   "source": [
    "# Confustion matrix \n",
    "\n",
    "def confusion_matrix(Y, T):\n",
    "    \"\"\"\n",
    "        Y    ndarray\n",
    "             predicted labels\n",
    "        T    ndarray\n",
    "             target labels\n",
    "             \n",
    "        @cfm DataFrame\n",
    "             confusion matrix\n",
    "    \"\"\"\n",
    "    \n",
    "    if len(Y) != len(T):\n",
    "        raise ValueError(\"Wrong prediction and target length!\")\n",
    "    \n",
    "    classes = np.unique(T)\n",
    "    n_classes = len(classes)\n",
    "    \n",
    "    cfm = pd.DataFrame(np.zeros((n_classes, n_classes)), index=classes, columns=classes, dtype=int)\n",
    "    \n",
    "    Tidx = [T == c for c in classes]\n",
    "    for c in classes:\n",
    "        pred_idx = Y == c\n",
    "        cfm.loc[c, :] = [np.sum(np.logical_and(pred_idx, tidx)) for tidx in Tidx]\n",
    "    \n",
    "    return cfm"
   ]
  },
  {
   "cell_type": "code",
   "execution_count": 41,
   "metadata": {},
   "outputs": [
    {
     "data": {
      "text/html": [
       "<div>\n",
       "<style scoped>\n",
       "    .dataframe tbody tr th:only-of-type {\n",
       "        vertical-align: middle;\n",
       "    }\n",
       "\n",
       "    .dataframe tbody tr th {\n",
       "        vertical-align: top;\n",
       "    }\n",
       "\n",
       "    .dataframe thead th {\n",
       "        text-align: right;\n",
       "    }\n",
       "</style>\n",
       "<table border=\"1\" class=\"dataframe\">\n",
       "  <thead>\n",
       "    <tr style=\"text-align: right;\">\n",
       "      <th></th>\n",
       "      <th>1</th>\n",
       "      <th>2</th>\n",
       "      <th>3</th>\n",
       "      <th>4</th>\n",
       "    </tr>\n",
       "  </thead>\n",
       "  <tbody>\n",
       "    <tr>\n",
       "      <th>1</th>\n",
       "      <td>3</td>\n",
       "      <td>1</td>\n",
       "      <td>0</td>\n",
       "      <td>0</td>\n",
       "    </tr>\n",
       "    <tr>\n",
       "      <th>2</th>\n",
       "      <td>0</td>\n",
       "      <td>1</td>\n",
       "      <td>1</td>\n",
       "      <td>0</td>\n",
       "    </tr>\n",
       "    <tr>\n",
       "      <th>3</th>\n",
       "      <td>0</td>\n",
       "      <td>0</td>\n",
       "      <td>0</td>\n",
       "      <td>1</td>\n",
       "    </tr>\n",
       "    <tr>\n",
       "      <th>4</th>\n",
       "      <td>0</td>\n",
       "      <td>0</td>\n",
       "      <td>0</td>\n",
       "      <td>1</td>\n",
       "    </tr>\n",
       "  </tbody>\n",
       "</table>\n",
       "</div>"
      ],
      "text/plain": [
       "   1  2  3  4\n",
       "1  3  1  0  0\n",
       "2  0  1  1  0\n",
       "3  0  0  0  1\n",
       "4  0  0  0  1"
      ]
     },
     "execution_count": 41,
     "metadata": {},
     "output_type": "execute_result"
    }
   ],
   "source": [
    "Y = np.array([1,2,1,1,1,2,3,4])\n",
    "T = np.array([1,3,1,2,1,2,4,4])\n",
    "\n",
    "confusion_matrix(Y, T)"
   ]
  },
  {
   "cell_type": "markdown",
   "metadata": {},
   "source": [
    "\n",
    "| | - | + \n",
    "| --|--|--\n",
    "| - | True Negative (TN) | False Negative (FN)\n",
    "| + | False Positive (FP) | True Positive (TP)\n",
    "\n",
    "\n",
    "## Precision and Recall\n",
    "\n",
    "- **Precision**: The accuracy of positive predictions. We can read this as *the ratio that my positive prediction is correct*.\n",
    "\n",
    "$$\n",
    "\\text{precision} = \\frac{\\text{TP}}{\\text{TP} + \\text{FP}}\n",
    "$$\n",
    "\n",
    "- **Recall** (Sensitivity or True Positive Rate): This measure give you how the model's prediction covers the positive class. \n",
    "\n",
    "$$\n",
    "\\text{recall} = \\frac{\\text{TP}}{\\text{TP} + \\text{FN}}\n",
    "$$\n",
    "\n",
    "- **Specificity** (True Negative Rate): Considering imblance or difference in class, we consider TNR as well. \n",
    "\n",
    "$$\n",
    "\\text{Specificity} = \\frac{\\text{TN}}{\\text{TN} + \\text{FP}}\n",
    "$$\n",
    "\n",
    "\n",
    "## F1 Score\n",
    "\n",
    "For convenience, many people want a single measure rather than multiple as above. For those, we can provide the harmonic mean of precision and recall. \n",
    "\n",
    "$$\n",
    "\\begin{align*}\n",
    "F_1 &= \\Bigg( \\frac{\\frac{1}{precision} + \\frac{1}{recall}}{2} \\Bigg)^{-1} \\\\\n",
    "\\\\\n",
    "    &= 2 \\times \\frac{precision \\times recall}{precision + recall} \\\\\n",
    "    \\\\\n",
    "    &= \\frac{TP}{TP + \\frac{FN+FP}{2}}\n",
    "\\end{align*}\n",
    "$$\n",
    "\n",
    "\n",
    "Here, we consider two difference cases with precision and recall, (0.5, 0.5) and (0.9, 0.1).\n",
    "$$F1 = 2 \\times (0.5 * 0.5 ) = 0.5$$\n",
    "$$F1 = 2 \\times (0.9 * 0.1 ) = 0.18$$\n",
    "\n",
    "We can see that F1 score favors the similar precision and recall values. \n",
    "\n",
    "\n",
    "## MCC (Matthews Correlation Coefficient)\n",
    "\n",
    "MCC uses all the counts in confusion matrix for the metric. \n",
    "\n",
    "$$\n",
    "MCC = \\frac{TP \\times TN – FP \\times FN}{\\sqrt{(TP +FP) \\times (TP + FN) \\times (TN + FP) \\times (TN + FN)}}\n",
    "$$\n",
    "\n",
    "\n",
    "\n",
    "\n",
    "## The ROC (Receiver Operating Characteristic) Curve\n",
    "\n",
    "The ROC curve is another popular tool for binary classifications. The ROC curve plots the true positive rate (recall) vs the false positive rate (1 - specificity). \n",
    "As in the figure below, starting from the boundary (or threshold) with 0% of false positive rate, moving the boundary, it shows the true positive rate by including more false positive areas.\n",
    "When the classification results are good, the curve gets close to retangular curve, close to 1 on the 0 FPR. \n",
    "\n",
    "![](https://upload.wikimedia.org/wikipedia/commons/4/4f/ROC_curves.svg)\n",
    "(image from wikipedia)\n",
    "\n",
    "\n",
    "## AUC (Area Under the Curve)\n",
    "\n",
    "For the ROC curve, AUC measures the area to represent it with a numeric value by simply computing the area under the curve. AUC values are used also for various graphical measurement such as PR (Precision-Recall) curve. "
   ]
  },
  {
   "cell_type": "markdown",
   "metadata": {},
   "source": [
    "\n",
    "\n",
    "# Practice\n",
    "\n",
    "1. Using the Table 1., compute precision, recall, specificity, and MCC.\n",
    "\n",
    "2. Download https://github.com/ageron/handson-ml/blob/master/03_classification.ipynb and run. \n",
    "   Report the auc value from the first run of roc_auc_score in the notebook."
   ]
  },
  {
   "cell_type": "markdown",
   "metadata": {},
   "source": [
    "- Answer: 0.9604938554008616"
   ]
  },
  {
   "cell_type": "markdown",
   "metadata": {},
   "source": [
    "### Cheat Sheet\n",
    "* Binary classification performances measure cheat sheet: http://www.damienfrancois.be/blog/files/modelperfcheatsheet.pdf\n",
    "\n",
    "### references\n",
    "\n",
    "* Chapter 3\n",
    "* The Best Metric to Measure Accuracy of Classification Models: http://www.kdnuggets.com/2016/12/best-metric-measure-accuracy-classification-models.html/2\n"
   ]
  },
  {
   "cell_type": "markdown",
   "metadata": {
    "collapsed": true
   },
   "source": [
    "# Appendix\n",
    "\n",
    "## Understanding various means\n",
    "\n",
    "### Pythagorean means \n",
    "\n",
    "1. Arithmetic mean : \n",
    "$$\n",
    "AM(x_1, \\cdots, x_n) = \\frac{1}{n} (x_1 + \\cdots + x_n)\n",
    "$$\n",
    "2. Geometric mean : \n",
    "$$\n",
    "GM(x_1, \\cdots, x_n) = \\sqrt{ x_1 \\times \\cdots \\times x_n }\n",
    "$$\n",
    "3. Harmonic mean : \n",
    "$$\n",
    "HM(x_1, \\cdots, x_n) = \\frac{n}{\\frac{1}{x_1} + \\cdots + \\frac{1}{x_n} }\n",
    "$$\n",
    "\n",
    "<img src=\"https://upload.wikimedia.org/wikipedia/commons/f/f7/MathematicalMeans.svg\" width=500 />\n",
    "(image from wikipedia.org)"
   ]
  },
  {
   "cell_type": "markdown",
   "metadata": {},
   "source": [
    "# References\n",
    "\n",
    "\n",
    "Rosenblatt, Frank (1957), The Perceptron--a perceiving and recognizing automaton. Report 85-460-1, Cornell Aeronautical Laboratory.\n",
    "\n",
    "Gallant, S. I. Perceptron-based learning algorithms. IEEE Transactions on Neural\n",
    "Networks 1 (1990), 179–191.\n",
    "\n"
   ]
  }
 ],
 "metadata": {
  "kernelspec": {
   "display_name": "Python 3",
   "language": "python",
   "name": "python3"
  },
  "language_info": {
   "codemirror_mode": {
    "name": "ipython",
    "version": 3
   },
   "file_extension": ".py",
   "mimetype": "text/x-python",
   "name": "python",
   "nbconvert_exporter": "python",
   "pygments_lexer": "ipython3",
   "version": "3.7.6"
  }
 },
 "nbformat": 4,
 "nbformat_minor": 2
}
